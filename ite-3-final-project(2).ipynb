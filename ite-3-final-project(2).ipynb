{
 "cells": [
  {
   "cell_type": "code",
   "execution_count": 1,
   "id": "cec95cbd",
   "metadata": {
    "execution": {
     "iopub.execute_input": "2024-01-15T13:57:21.597609Z",
     "iopub.status.busy": "2024-01-15T13:57:21.597150Z",
     "iopub.status.idle": "2024-01-15T13:57:24.723223Z",
     "shell.execute_reply": "2024-01-15T13:57:24.721995Z"
    },
    "papermill": {
     "duration": 3.141924,
     "end_time": "2024-01-15T13:57:24.726493",
     "exception": false,
     "start_time": "2024-01-15T13:57:21.584569",
     "status": "completed"
    },
    "tags": []
   },
   "outputs": [],
   "source": [
    "import numpy as np \n",
    "import pandas as pd \n",
    "\n",
    "import nltk\n",
    "import re\n",
    "import string\n",
    "\n",
    "from nltk.tokenize import word_tokenize\n",
    "from nltk.stem import PorterStemmer\n",
    "\n",
    "from sklearn.model_selection import train_test_split\n",
    "from sklearn.feature_extraction.text import CountVectorizer\n",
    "\n",
    "from sklearn.metrics import confusion_matrix\n",
    "from sklearn.metrics import classification_report\n",
    "\n",
    "from imblearn.under_sampling import RandomUnderSampler\n",
    "from imblearn.pipeline import Pipeline\n",
    "from sklearn.ensemble import RandomForestClassifier"
   ]
  },
  {
   "cell_type": "markdown",
   "id": "608182d4",
   "metadata": {
    "papermill": {
     "duration": 0.009901,
     "end_time": "2024-01-15T13:57:24.746834",
     "exception": false,
     "start_time": "2024-01-15T13:57:24.736933",
     "status": "completed"
    },
    "tags": []
   },
   "source": [
    "# Loading the dataset"
   ]
  },
  {
   "cell_type": "code",
   "execution_count": 2,
   "id": "37362511",
   "metadata": {
    "execution": {
     "iopub.execute_input": "2024-01-15T13:57:24.769879Z",
     "iopub.status.busy": "2024-01-15T13:57:24.768737Z",
     "iopub.status.idle": "2024-01-15T13:57:25.113023Z",
     "shell.execute_reply": "2024-01-15T13:57:25.111748Z"
    },
    "papermill": {
     "duration": 0.358722,
     "end_time": "2024-01-15T13:57:25.115808",
     "exception": false,
     "start_time": "2024-01-15T13:57:24.757086",
     "status": "completed"
    },
    "tags": []
   },
   "outputs": [
    {
     "data": {
      "text/plain": [
       "Unnamed: 0                        24302\n",
       "recommendationid                  24302\n",
       "language                          24302\n",
       "review                            24236\n",
       "timestamp_created                 24302\n",
       "timestamp_updated                 24302\n",
       "voted_up                          24302\n",
       "votes_up                          24302\n",
       "votes_funny                       24302\n",
       "weighted_vote_score               24302\n",
       "comment_count                     24302\n",
       "steam_purchase                    24302\n",
       "received_for_free                 24302\n",
       "written_during_early_access       24302\n",
       "author.steamid                    24302\n",
       "author.num_games_owned            24302\n",
       "author.num_reviews                24302\n",
       "author.playtime_forever           24302\n",
       "author.playtime_last_two_weeks    24302\n",
       "author.playtime_at_review         24277\n",
       "author.last_played                24302\n",
       "timestamp_dev_responded               2\n",
       "developer_response                    2\n",
       "dtype: int64"
      ]
     },
     "execution_count": 2,
     "metadata": {},
     "output_type": "execute_result"
    }
   ],
   "source": [
    "# loading the data set\n",
    "dataset = pd.read_csv(\"/kaggle/input/americantrucksimulator/AmericanTruckSimulator.csv\")\n",
    "\n",
    "\n",
    "dataset.count()"
   ]
  },
  {
   "cell_type": "markdown",
   "id": "895d6709",
   "metadata": {
    "papermill": {
     "duration": 0.010714,
     "end_time": "2024-01-15T13:57:25.137187",
     "exception": false,
     "start_time": "2024-01-15T13:57:25.126473",
     "status": "completed"
    },
    "tags": []
   },
   "source": [
    "# Only use the 6000+ rows out of 24000+"
   ]
  },
  {
   "cell_type": "code",
   "execution_count": 3,
   "id": "c8e8d813",
   "metadata": {
    "execution": {
     "iopub.execute_input": "2024-01-15T13:57:25.160419Z",
     "iopub.status.busy": "2024-01-15T13:57:25.159997Z",
     "iopub.status.idle": "2024-01-15T13:57:25.201192Z",
     "shell.execute_reply": "2024-01-15T13:57:25.199571Z"
    },
    "papermill": {
     "duration": 0.056262,
     "end_time": "2024-01-15T13:57:25.203840",
     "exception": false,
     "start_time": "2024-01-15T13:57:25.147578",
     "status": "completed"
    },
    "tags": []
   },
   "outputs": [
    {
     "name": "stdout",
     "output_type": "stream",
     "text": [
      "True:  23343\n",
      "False:  959\n"
     ]
    }
   ],
   "source": [
    "# Count how may true and false row in voted_up col\n",
    "\n",
    "dataset['voted_up'] = dataset['voted_up'].astype(str)\n",
    "\n",
    "print(\"True: \",sum(dataset['voted_up'] == 'True'))\n",
    "print(\"False: \",sum(dataset['voted_up'] == 'False'))"
   ]
  },
  {
   "cell_type": "code",
   "execution_count": 4,
   "id": "eb627c2a",
   "metadata": {
    "execution": {
     "iopub.execute_input": "2024-01-15T13:57:25.229643Z",
     "iopub.status.busy": "2024-01-15T13:57:25.227862Z",
     "iopub.status.idle": "2024-01-15T13:57:25.265826Z",
     "shell.execute_reply": "2024-01-15T13:57:25.264159Z"
    },
    "papermill": {
     "duration": 0.053611,
     "end_time": "2024-01-15T13:57:25.268378",
     "exception": false,
     "start_time": "2024-01-15T13:57:25.214767",
     "status": "completed"
    },
    "tags": []
   },
   "outputs": [
    {
     "name": "stdout",
     "output_type": "stream",
     "text": [
      "Number of rows:  6459\n"
     ]
    }
   ],
   "source": [
    "# Only use 6K+ col with 5500+ for true and 900+ for false based on voted_up col\n",
    "\n",
    "\n",
    "true = dataset[dataset['voted_up'] == 'True'].sample(n=5500, random_state=2)\n",
    "false = dataset[dataset['voted_up'] == 'False'].sample(n=959)\n",
    "\n",
    "data_6K= pd.concat([true, false])\n",
    "\n",
    "print(\"Number of rows: \", data_6K.shape[0])\n"
   ]
  },
  {
   "cell_type": "markdown",
   "id": "e28a0813",
   "metadata": {
    "papermill": {
     "duration": 0.010177,
     "end_time": "2024-01-15T13:57:25.289156",
     "exception": false,
     "start_time": "2024-01-15T13:57:25.278979",
     "status": "completed"
    },
    "tags": []
   },
   "source": [
    "#                                                           TEXT NORMALIZATION"
   ]
  },
  {
   "cell_type": "markdown",
   "id": "ac7ce378",
   "metadata": {
    "papermill": {
     "duration": 0.010193,
     "end_time": "2024-01-15T13:57:25.309731",
     "exception": false,
     "start_time": "2024-01-15T13:57:25.299538",
     "status": "completed"
    },
    "tags": []
   },
   "source": [
    "## Data Cleaning"
   ]
  },
  {
   "cell_type": "code",
   "execution_count": 5,
   "id": "ac3a0a4a",
   "metadata": {
    "execution": {
     "iopub.execute_input": "2024-01-15T13:57:25.332708Z",
     "iopub.status.busy": "2024-01-15T13:57:25.332307Z",
     "iopub.status.idle": "2024-01-15T13:57:25.359120Z",
     "shell.execute_reply": "2024-01-15T13:57:25.357748Z"
    },
    "papermill": {
     "duration": 0.041028,
     "end_time": "2024-01-15T13:57:25.361600",
     "exception": false,
     "start_time": "2024-01-15T13:57:25.320572",
     "status": "completed"
    },
    "tags": []
   },
   "outputs": [
    {
     "name": "stdout",
     "output_type": "stream",
     "text": [
      "5159                               it is a relly good game\n",
      "20828    i have quite a bit of history with truck drivi...\n",
      "12206                                                   ;]\n",
      "516                                                  great\n",
      "754      this game is amazing, easily moddable, awesome...\n",
      "16425              looks amazing and it feels like oregon.\n",
      "11846                               best game for relaxing\n",
      "11656                            awesome game and is cheap\n",
      "3364     i absolutely love the game. from customization...\n",
      "2158                             very fun to drive around.\n",
      "1411     if you like simulators then you will definitel...\n",
      "18028    it surprises me how soothing a game like this ...\n",
      "13313                                         amazing game\n",
      "9608     for those people who loves the thought of bein...\n",
      "5521                       it is fun ! and always updates.\n",
      "21294    played as an afro-american but didn´t get shot...\n",
      "22374    fantastic  \\n\\nsure theres alot missing but it...\n",
      "740      if your in to driving simulators and trucks yo...\n",
      "16889    i have a full cdl and have driven semi over th...\n",
      "2223                                i love this game a lot\n",
      "13891    ats is one of the few games where you can just...\n",
      "10118                           amazing game, a must play.\n",
      "21539                          it's a really fantasty game\n",
      "5270     great game! i've been using their vr implement...\n",
      "1068                          yeah nah pritty good game ay\n",
      "6050     very life like, very good training simulator o...\n",
      "20556                                 amazing just amazing\n",
      "12984                                   everything i liked\n",
      "20257    its about the journey, not the destination.\\n\\...\n",
      "1489                                             neeowhhhn\n",
      "8641     amazing game with amazing graphics. extremely ...\n",
      "7055     its one of those games you get bored of then c...\n",
      "15555                  obviously better graphics than ets2\n",
      "1948                                             good game\n",
      "5983                                        good and fun .\n",
      "23722    this is a great game with massive potential! i...\n",
      "12344    love this game wish there were alot more state...\n",
      "6913     american truck sim, and it's cousin european t...\n",
      "15143                                   a fun game to play\n",
      "3974     if you love semi trucks and driving games, thi...\n",
      "1053     a whole different experience from the europe t...\n",
      "22001    amazing game, even though my pc isn't that pow...\n",
      "642      just a fun open world game, love this game was...\n",
      "21102    this game is a fun driving challenge. unlike p...\n",
      "4039                                             good game\n",
      "7522     if you enjoy driving and are into heavy vehicl...\n",
      "10252    i have about 60 hours in this game, and it is ...\n",
      "6870     relaxing game to play when you have time to ki...\n",
      "3963     great game to just chill out and cruise around...\n",
      "8963     good game but i would like to have more trucks...\n",
      "18335                                can't stop driving!!!\n",
      "5848     probs best game to ever exist. change my mind....\n",
      "11350    i enjoy playing both euro and american truck s...\n",
      "6384                                                  good\n",
      "4090                                                 great\n",
      "105      this game will take you somewhere else through...\n",
      "17482                             i yust started its great\n",
      "17179                                             good gem\n",
      "3354                                      i like this game\n",
      "6222                                             worth it.\n",
      "Name: review, dtype: object\n"
     ]
    }
   ],
   "source": [
    "# dropping those with empty reviews\n",
    "data_6K = data_6K.dropna(subset=['review'])\n",
    "\n",
    "# Convert the 'review' column to string\n",
    "data_6K.loc[:, 'review'] = data_6K['review'].astype(str)\n",
    "\n",
    "\n",
    "# Convert 'review' column to lowercase\n",
    "data_6K.loc[:, 'review'] = data_6K.loc[:, 'review'].str.lower()\n",
    "\n",
    "\n",
    "\n",
    "print(data_6K.loc[:, 'review'].head(60))"
   ]
  },
  {
   "cell_type": "code",
   "execution_count": 6,
   "id": "6d6ecef8",
   "metadata": {
    "execution": {
     "iopub.execute_input": "2024-01-15T13:57:25.385721Z",
     "iopub.status.busy": "2024-01-15T13:57:25.385293Z",
     "iopub.status.idle": "2024-01-15T13:57:25.390906Z",
     "shell.execute_reply": "2024-01-15T13:57:25.389691Z"
    },
    "papermill": {
     "duration": 0.020839,
     "end_time": "2024-01-15T13:57:25.393759",
     "exception": false,
     "start_time": "2024-01-15T13:57:25.372920",
     "status": "completed"
    },
    "tags": []
   },
   "outputs": [
    {
     "name": "stdout",
     "output_type": "stream",
     "text": [
      "Number of rows:  6446\n"
     ]
    }
   ],
   "source": [
    "# No of rows after removing the rows with empty reviews\n",
    "print(\"Number of rows: \", data_6K.shape[0])"
   ]
  },
  {
   "cell_type": "markdown",
   "id": "ae1c9d62",
   "metadata": {
    "papermill": {
     "duration": 0.011187,
     "end_time": "2024-01-15T13:57:25.415911",
     "exception": false,
     "start_time": "2024-01-15T13:57:25.404724",
     "status": "completed"
    },
    "tags": []
   },
   "source": [
    "### Expanding Contractions"
   ]
  },
  {
   "cell_type": "code",
   "execution_count": 7,
   "id": "86a2f3c5",
   "metadata": {
    "execution": {
     "iopub.execute_input": "2024-01-15T13:57:25.439615Z",
     "iopub.status.busy": "2024-01-15T13:57:25.439197Z",
     "iopub.status.idle": "2024-01-15T13:57:29.818754Z",
     "shell.execute_reply": "2024-01-15T13:57:29.817415Z"
    },
    "papermill": {
     "duration": 4.395041,
     "end_time": "2024-01-15T13:57:29.821722",
     "exception": false,
     "start_time": "2024-01-15T13:57:25.426681",
     "status": "completed"
    },
    "tags": []
   },
   "outputs": [
    {
     "name": "stdout",
     "output_type": "stream",
     "text": [
      "5159                               it is a relly good game\n",
      "20828    i have quite a bit of history with truck drivi...\n",
      "12206                                                   ;]\n",
      "516                                                  great\n",
      "754      this game is amazing, easily moddable, awesome...\n",
      "16425              looks amazing and it feels like oregon.\n",
      "11846                               best game for relaxing\n",
      "11656                            awesome game and is cheap\n",
      "3364     i absolutely love the game. from customization...\n",
      "2158                             very fun to drive around.\n",
      "1411     if you like simulators then you will definitel...\n",
      "18028    it surprises me how soothing a game like this ...\n",
      "13313                                         amazing game\n",
      "9608     for those people who loves the thought of bein...\n",
      "5521                       it is fun ! and always updates.\n",
      "21294    played as an afro-american but didn´t get shot...\n",
      "22374    fantastic  \\n\\nsure theres alot missing but it...\n",
      "740      if your in to driving simulators and trucks yo...\n",
      "16889    i have a full cdl and have driven semi over th...\n",
      "2223                                i love this game a lot\n",
      "13891    ats is one of the few games where you can just...\n",
      "10118                           amazing game, a must play.\n",
      "21539                         it is a really fantasty game\n",
      "5270     great game! i have been using their vr impleme...\n",
      "1068                          yeah nah pritty good game ay\n",
      "6050     very life like, very good training simulator o...\n",
      "20556                                 amazing just amazing\n",
      "12984                                   everything i liked\n",
      "20257    its about the journey, not the destination.\\n\\...\n",
      "1489                                             neeowhhhn\n",
      "8641     amazing game with amazing graphics. extremely ...\n",
      "7055     its one of those games you get bored of then c...\n",
      "15555                  obviously better graphics than ets2\n",
      "1948                                             good game\n",
      "5983                                        good and fun .\n",
      "23722    this is a great game with massive potential! i...\n",
      "12344    love this game wish there were alot more state...\n",
      "6913     american truck sim, and it is cousin european ...\n",
      "15143                                   a fun game to play\n",
      "3974     if you love semi trucks and driving games, thi...\n",
      "1053     a whole different experience from the europe t...\n",
      "22001    amazing game, even though my pc is not that po...\n",
      "642      just a fun open world game, love this game was...\n",
      "21102    this game is a fun driving challenge. unlike p...\n",
      "4039                                             good game\n",
      "7522     if you enjoy driving and are into heavy vehicl...\n",
      "10252    i have about 60 hours in this game, and it is ...\n",
      "6870     relaxing game to play when you have time to ki...\n",
      "3963     great game to just chill out and cruise around...\n",
      "8963     good game but i would like to have more trucks...\n",
      "18335                               cannot stop driving!!!\n",
      "5848     probs best game to ever exist. change my mind....\n",
      "11350    i enjoy playing both euro and american truck s...\n",
      "6384                                                  good\n",
      "4090                                                 great\n",
      "105      this game will take you somewhere else through...\n",
      "17482                             i yust started its great\n",
      "17179                                             good gem\n",
      "3354                                      i like this game\n",
      "6222                                             worth it.\n",
      "Name: review, dtype: object\n"
     ]
    }
   ],
   "source": [
    "# Expanding contractions\n",
    "\n",
    "CONTRACTION_MAP = {\n",
    "    \"ain't\": \"is not\",\n",
    "    \"aren't\": \"are not\",\n",
    "    \"can't\": \"cannot\",\n",
    "    \"can't've\": \"cannot have\",\n",
    "    \"'cause\": \"because\",\n",
    "    \"could've\": \"could have\",\n",
    "    \"couldn't\": \"could not\",\n",
    "    \"couldn't've\": \"could not have\",\n",
    "    \"didn't\": \"did not\",\n",
    "    \"doesn't\": \"does not\",\n",
    "    \"don't\": \"do not\",\n",
    "    \"hadn't\": \"had not\",\n",
    "    \"hadn't've\": \"had not have\",\n",
    "    \"hasn't\": \"has not\",\n",
    "    \"haven't\": \"have not\",\n",
    "    \"he'd\": \"he would\",\n",
    "    \"he'd've\": \"he would have\",\n",
    "    \"he'll\": \"he will\",\n",
    "    \"he'll've\": \"he will have\",\n",
    "    \"he's\": \"he is\",\n",
    "    \"how'd\": \"how did\",\n",
    "    \"how'd'y\": \"how do you\",\n",
    "    \"how'll\": \"how will\",\n",
    "    \"how's\": \"how is\",\n",
    "    \"i'd\": \"I would\",\n",
    "    \"i'd've\": \"I would have\",\n",
    "    \"i'll\": \"I will\",\n",
    "    \"i'll've\": \"I will have\",\n",
    "    \"i'm\": \"I am\",\n",
    "    \"i've\": \"I have\",\n",
    "    \"isn't\": \"is not\",\n",
    "    \"it'd\": \"it would\",\n",
    "    \"it'd've\": \"it would have\",\n",
    "    \"it'll\": \"it will\",\n",
    "    \"it'll've\": \"it will have\",\n",
    "    \"it's\": \"it is\",\n",
    "    \"let's\": \"let us\",\n",
    "    \"ma'am\": \"madam\",\n",
    "    \"mayn't\": \"may not\",\n",
    "    \"might've\": \"might have\",\n",
    "    \"mightn't\": \"might not\",\n",
    "    \"mightn't've\": \"might not have\",\n",
    "    \"must've\": \"must have\",\n",
    "    \"mustn't\": \"must not\",\n",
    "    \"mustn't've\": \"must not have\",\n",
    "    \"needn't\": \"need not\",\n",
    "    \"needn't've\": \"need not have\",\n",
    "    \"o'clock\": \"of the clock\",\n",
    "    \"oughtn't\": \"ought not\",\n",
    "    \"oughtn't've\": \"ought not have\",\n",
    "    \"shan't\": \"shall not\",\n",
    "    \"sha'n't\": \"shall not\",\n",
    "    \"shan't've\": \"shall not have\",\n",
    "    \"she'd\": \"she would\",\n",
    "    \"she'd've\": \"she would have\",\n",
    "    \"she'll\": \"she will\",\n",
    "    \"she'll've\": \"she will have\",\n",
    "    \"she's\": \"she is\",\n",
    "    \"should've\": \"should have\",\n",
    "    \"shouldn't\": \"should not\",\n",
    "    \"shouldn't've\": \"should not have\",\n",
    "    \"so've\": \"so have\",\n",
    "    \"so's\": \"so is\",\n",
    "    \"that'd\": \"that would\",\n",
    "    \"that'd've\": \"that would have\",\n",
    "    \"that's\": \"that is\",\n",
    "    \"there'd\": \"there would\",\n",
    "    \"there'd've\": \"there would have\",\n",
    "    \"there's\": \"there is\",\n",
    "    \"they'd\": \"they would\",\n",
    "    \"they'd've\": \"they would have\",\n",
    "    \"they'll\": \"they will\",\n",
    "    \"they'll've\": \"they will have\",\n",
    "    \"they're\": \"they are\",\n",
    "    \"they've\": \"they have\",\n",
    "    \"to've\": \"to have\",\n",
    "    \"wasn't\": \"was not\",\n",
    "    \"we'd\": \"we would\",\n",
    "    \"we'd've\": \"we would have\",\n",
    "    \"we'll\": \"we will\",\n",
    "    \"we'll've\": \"we will have\",\n",
    "    \"we're\": \"we are\",\n",
    "    \"we've\": \"we have\",\n",
    "    \"weren't\": \"were not\",\n",
    "    \"what'll\": \"what will\",\n",
    "    \"what'll've\": \"what will have\",\n",
    "    \"what're\": \"what are\",\n",
    "    \"what's\": \"what is\",\n",
    "    \"what've\": \"what have\",\n",
    "    \"when's\": \"when is\",\n",
    "    \"when've\": \"when have\",\n",
    "    \"where'd\": \"where did\",\n",
    "    \"where's\": \"where is\",\n",
    "    \"where've\": \"where have\",\n",
    "    \"who'll\": \"who will\",\n",
    "    \"who'll've\": \"who will have\",\n",
    "    \"who's\": \"who is\",\n",
    "    \"who've\": \"who have\",\n",
    "    \"why's\": \"why is\",\n",
    "    \"why've\": \"why have\",\n",
    "    \"will've\": \"will have\",\n",
    "    \"won't\": \"will not\",\n",
    "    \"won't've\": \"will not have\",\n",
    "    \"would've\": \"would have\",\n",
    "    \"wouldn't\": \"would not\",\n",
    "    \"wouldn't've\": \"would not have\",\n",
    "    \"y'all\": \"you all\",\n",
    "    \"y'all'd\": \"you all would\",\n",
    "    \"y'all'd've\": \"you all would have\",\n",
    "    \"y'all're\": \"you all are\",\n",
    "    \"y'all've\": \"you all have\",\n",
    "    \"you'd\": \"you would\",\n",
    "    \"you'd've\": \"you would have\",\n",
    "    \"you'll\": \"you will\",\n",
    "    \"you'll've\": \"you will have\",\n",
    "    \"you're\": \"you are\",\n",
    "    \"you've\": \"you have\"\n",
    "}\n",
    "\n",
    "def expand_contractions(text, contraction_mapping=CONTRACTION_MAP):\n",
    "    contractions_pattern = re.compile('({})'.format('|'.join(contraction_mapping.keys())), \n",
    "                                      flags=re.IGNORECASE|re.DOTALL)\n",
    "    def expand_match(contraction):\n",
    "        match = contraction.group(0)\n",
    "        first_char = match[0]\n",
    "        expanded_contraction = contraction_mapping.get(match)\\\n",
    "                                if contraction_mapping.get(match)\\\n",
    "                                else contraction_mapping.get(match.lower())                       \n",
    "        expanded_contraction = first_char+expanded_contraction[1:]\n",
    "        return expanded_contraction\n",
    "        \n",
    "    expanded_text = contractions_pattern.sub(expand_match, text)\n",
    "    expanded_text = re.sub('\"', '', expanded_text)\n",
    "    return expanded_text\n",
    "\n",
    "# Expand contractions\n",
    "data_6K.loc[:, 'review'] = data_6K.loc[:, 'review'].apply(expand_contractions)\n",
    "\n",
    "print(data_6K.loc[:, 'review'].head(60))"
   ]
  },
  {
   "cell_type": "markdown",
   "id": "9dfe04cc",
   "metadata": {
    "papermill": {
     "duration": 0.011267,
     "end_time": "2024-01-15T13:57:29.844394",
     "exception": false,
     "start_time": "2024-01-15T13:57:29.833127",
     "status": "completed"
    },
    "tags": []
   },
   "source": [
    "### Removing Punctations"
   ]
  },
  {
   "cell_type": "code",
   "execution_count": 8,
   "id": "c3cccba1",
   "metadata": {
    "execution": {
     "iopub.execute_input": "2024-01-15T13:57:29.869038Z",
     "iopub.status.busy": "2024-01-15T13:57:29.868588Z",
     "iopub.status.idle": "2024-01-15T13:57:30.220810Z",
     "shell.execute_reply": "2024-01-15T13:57:30.219913Z"
    },
    "papermill": {
     "duration": 0.367675,
     "end_time": "2024-01-15T13:57:30.223521",
     "exception": false,
     "start_time": "2024-01-15T13:57:29.855846",
     "status": "completed"
    },
    "tags": []
   },
   "outputs": [
    {
     "name": "stdout",
     "output_type": "stream",
     "text": [
      "5159                               it is a relly good game\n",
      "20828    i have quite a bit of history with truck drivi...\n",
      "12206                                                     \n",
      "516                                                  great\n",
      "754      this game is amazing easily moddable awesome t...\n",
      "16425               looks amazing and it feels like oregon\n",
      "11846                               best game for relaxing\n",
      "11656                            awesome game and is cheap\n",
      "3364     i absolutely love the game from customization ...\n",
      "2158                              very fun to drive around\n",
      "1411     if you like simulators then you will definitel...\n",
      "18028    it surprises me how soothing a game like this ...\n",
      "13313                                         amazing game\n",
      "9608     for those people who loves the thought of bein...\n",
      "5521                         it is fun  and always updates\n",
      "21294    played as an afroamerican but didn´t get shot ...\n",
      "22374    fantastic  \\n\\nsure theres alot missing but it...\n",
      "740      if your in to driving simulators and trucks yo...\n",
      "16889    i have a full cdl and have driven semi over th...\n",
      "2223                                i love this game a lot\n",
      "13891    ats is one of the few games where you can just...\n",
      "10118                             amazing game a must play\n",
      "21539                         it is a really fantasty game\n",
      "5270     great game i have been using their vr implemen...\n",
      "1068                          yeah nah pritty good game ay\n",
      "6050     very life like very good training simulator or...\n",
      "20556                                 amazing just amazing\n",
      "12984                                   everything i liked\n",
      "20257    its about the journey not the destination\\n\\np...\n",
      "1489                                             neeowhhhn\n",
      "8641     amazing game with amazing graphics extremely r...\n",
      "7055     its one of those games you get bored of then c...\n",
      "15555                   obviously better graphics than ets\n",
      "1948                                             good game\n",
      "5983                                         good and fun \n",
      "23722    this is a great game with massive potential i ...\n",
      "12344    love this game wish there were alot more state...\n",
      "6913     american truck sim and it is cousin european t...\n",
      "15143                                   a fun game to play\n",
      "3974     if you love semi trucks and driving games this...\n",
      "1053     a whole different experience from the europe t...\n",
      "22001    amazing game even though my pc is not that pow...\n",
      "642      just a fun open world game love this game was ...\n",
      "21102    this game is a fun driving challenge unlike pr...\n",
      "4039                                             good game\n",
      "7522     if you enjoy driving and are into heavy vehicl...\n",
      "10252    i have about  hours in this game and it is wel...\n",
      "6870     relaxing game to play when you have time to ki...\n",
      "3963     great game to just chill out and cruise around...\n",
      "8963     good game but i would like to have more trucks...\n",
      "18335                                  cannot stop driving\n",
      "5848     probs best game to ever exist change my mind n...\n",
      "11350    i enjoy playing both euro and american truck s...\n",
      "6384                                                  good\n",
      "4090                                                 great\n",
      "105      this game will take you somewhere else through...\n",
      "17482                             i yust started its great\n",
      "17179                                             good gem\n",
      "3354                                      i like this game\n",
      "6222                                              worth it\n",
      "Name: review, dtype: object\n"
     ]
    }
   ],
   "source": [
    "# Removing punctations\n",
    "\n",
    "def remove_punct(my_str):\n",
    "    # define punctuation\n",
    "    punctuations = '''!()-[]{};:'.'\"\\,<>./?@#$%^-&_0123456789~*'''\n",
    "    \n",
    "    # remove punctuation from the string\n",
    "    no_punct = \"\"  \n",
    "    for char in my_str:\n",
    "        if char not in punctuations:\n",
    "            no_punct = no_punct + char\n",
    "        \n",
    "    return no_punct\n",
    "\n",
    "\n",
    "# Apply strip to remove leading and trailing spaces from each string in the ‘review’ column\n",
    "data_6K.loc[:, 'review'] = data_6K.loc[:, 'review'].str.strip()\n",
    "\n",
    "\n",
    "# Remove punctuation\n",
    "data_6K.loc[:, 'review'] = data_6K['review'].apply(remove_punct)\n",
    "\n",
    "\n",
    "\n",
    "\n",
    "\n",
    "print(data_6K.loc[:, 'review'].head(60))"
   ]
  },
  {
   "cell_type": "markdown",
   "id": "0cfb9677",
   "metadata": {
    "papermill": {
     "duration": 0.010817,
     "end_time": "2024-01-15T13:57:30.245615",
     "exception": false,
     "start_time": "2024-01-15T13:57:30.234798",
     "status": "completed"
    },
    "tags": []
   },
   "source": [
    "### Remove Repeating Characters"
   ]
  },
  {
   "cell_type": "code",
   "execution_count": 9,
   "id": "f2e441da",
   "metadata": {
    "execution": {
     "iopub.execute_input": "2024-01-15T13:57:30.272359Z",
     "iopub.status.busy": "2024-01-15T13:57:30.271898Z",
     "iopub.status.idle": "2024-01-15T13:57:30.601855Z",
     "shell.execute_reply": "2024-01-15T13:57:30.599497Z"
    },
    "papermill": {
     "duration": 0.346371,
     "end_time": "2024-01-15T13:57:30.605619",
     "exception": false,
     "start_time": "2024-01-15T13:57:30.259248",
     "status": "completed"
    },
    "tags": []
   },
   "outputs": [
    {
     "name": "stdout",
     "output_type": "stream",
     "text": [
      "5159                                 it is a rely god game\n",
      "20828    i have quite a bit of history with truck drivi...\n",
      "12206                                                     \n",
      "516                                                  great\n",
      "754      this game is amazing easily modable awesome to...\n",
      "16425                 loks amazing and it fels like oregon\n",
      "11846                               best game for relaxing\n",
      "11656                            awesome game and is cheap\n",
      "3364     i absolutely love the game from customization ...\n",
      "2158                              very fun to drive around\n",
      "1411     if you like simulators then you wil definitely...\n",
      "18028    it surprises me how sothing a game like this c...\n",
      "13313                                         amazing game\n",
      "9608     for those people who loves the thought of bein...\n",
      "5521                          it is fun and always updates\n",
      "21294    played as an afroamerican but didn´t get shot ...\n",
      "22374    fantastic \\n\\nsure theres alot mising but it j...\n",
      "740      if your in to driving simulators and trucks yo...\n",
      "16889    i have a ful cdl and have driven semi over the...\n",
      "2223                                i love this game a lot\n",
      "13891    ats is one of the few games where you can just...\n",
      "10118                             amazing game a must play\n",
      "21539                          it is a realy fantasty game\n",
      "5270     great game i have ben using their vr implement...\n",
      "1068                            yeah nah prity god game ay\n",
      "6050     very life like very god training simulator or ...\n",
      "20556                                 amazing just amazing\n",
      "12984                                   everything i liked\n",
      "20257    its about the journey not the destination\\n\\np...\n",
      "1489                                                neowhn\n",
      "8641     amazing game with amazing graphics extremely r...\n",
      "7055     its one of those games you get bored of then c...\n",
      "15555                    obviously beter graphics than ets\n",
      "1948                                              god game\n",
      "5983                                          god and fun \n",
      "23722    this is a great game with masive potential i h...\n",
      "12344    love this game wish there were alot more state...\n",
      "6913     american truck sim and it is cousin european t...\n",
      "15143                                   a fun game to play\n",
      "3974     if you love semi trucks and driving games this...\n",
      "1053     a whole diferent experience from the europe tr...\n",
      "22001    amazing game even though my pc is not that pow...\n",
      "642      just a fun open world game love this game was ...\n",
      "21102    this game is a fun driving chalenge unlike pre...\n",
      "4039                                              god game\n",
      "7522     if you enjoy driving and are into heavy vehicl...\n",
      "10252    i have about hours in this game and it is wel ...\n",
      "6870     relaxing game to play when you have time to ki...\n",
      "3963     great game to just chil out and cruise around ...\n",
      "8963     god game but i would like to have more trucks ...\n",
      "18335                                   canot stop driving\n",
      "5848     probs best game to ever exist change my mind n...\n",
      "11350    i enjoy playing both euro and american truck s...\n",
      "6384                                                   god\n",
      "4090                                                 great\n",
      "105      this game wil take you somewhere else through ...\n",
      "17482                             i yust started its great\n",
      "17179                                              god gem\n",
      "3354                                      i like this game\n",
      "6222                                              worth it\n",
      "Name: review, dtype: object\n"
     ]
    }
   ],
   "source": [
    "# Removing repeating characters\n",
    "    \n",
    "def remove_repeating_chars(s):\n",
    "    return re.sub(r'(.)\\1+', r'\\1', s)\n",
    "\n",
    "# Assuming df is your DataFrame and 'column' is the name of the column containing the strings\n",
    "data_6K.loc[:, 'review'] = data_6K.loc[:, 'review'].apply(remove_repeating_chars)\n",
    "\n",
    "print(data_6K.loc[:, 'review'].head(60))"
   ]
  },
  {
   "cell_type": "markdown",
   "id": "f65f4707",
   "metadata": {
    "papermill": {
     "duration": 0.015847,
     "end_time": "2024-01-15T13:57:30.637813",
     "exception": false,
     "start_time": "2024-01-15T13:57:30.621966",
     "status": "completed"
    },
    "tags": []
   },
   "source": [
    "### Removing Stopwords"
   ]
  },
  {
   "cell_type": "code",
   "execution_count": 10,
   "id": "ca383e47",
   "metadata": {
    "execution": {
     "iopub.execute_input": "2024-01-15T13:57:30.671843Z",
     "iopub.status.busy": "2024-01-15T13:57:30.670898Z",
     "iopub.status.idle": "2024-01-15T13:57:33.078545Z",
     "shell.execute_reply": "2024-01-15T13:57:33.077355Z"
    },
    "papermill": {
     "duration": 2.427111,
     "end_time": "2024-01-15T13:57:33.081489",
     "exception": false,
     "start_time": "2024-01-15T13:57:30.654378",
     "status": "completed"
    },
    "tags": []
   },
   "outputs": [
    {
     "name": "stdout",
     "output_type": "stream",
     "text": [
      "5159                                         rely god game\n",
      "20828    bit history truck driving simulators days scs ...\n",
      "12206                                                     \n",
      "516                                                  great\n",
      "754               game amazing easily modable awesome play\n",
      "16425                        loks amazing fels like oregon\n",
      "11846                                   best game relaxing\n",
      "11656                                   awesome game cheap\n",
      "3364     absolutely love game customization options tru...\n",
      "2158                                             fun drive\n",
      "1411              like simulators wil definitely enjoy sim\n",
      "18028                surprises sothing game like can times\n",
      "13313                                         amazing game\n",
      "9608     people who loves thought being truck driver so...\n",
      "5521                                           fun updates\n",
      "21294    played afroamerican didn´t shot police lack re...\n",
      "22374    fantastic sure theres alot mising just came be...\n",
      "740      driving simulators trucks enjoy heard actualy ...\n",
      "16889    ful cdl driven semi road yearsthis time agoas ...\n",
      "2223                                             love game\n",
      "13891    ats games can just sit back relax listening ra...\n",
      "10118                                    amazing game play\n",
      "21539                                  realy fantasty game\n",
      "5270     great game ben using vr implementation found f...\n",
      "1068                            yeah nah prity god game ay\n",
      "6050             life like god training simulator just fun\n",
      "20556                                 amazing just amazing\n",
      "12984                                                liked\n",
      "20257    journey destination pros rich open world imers...\n",
      "1489                                                neowhn\n",
      "8641     amazing game amazing graphics extremely realis...\n",
      "7055                                  games bored comeback\n",
      "15555                         obviously beter graphics ets\n",
      "1948                                              god game\n",
      "5983                                               god fun\n",
      "23722    great game masive potential hope kep expanding...\n",
      "12344              love game wish alot states time wil tel\n",
      "6913     american truck sim cousin european truck sim f...\n",
      "15143                                        fun game play\n",
      "3974                   love semi trucks driving games game\n",
      "1053      whole diferent experience europe truck simulator\n",
      "22001    amazing game pc powerful can only handle mediu...\n",
      "642      just fun open world game love game huge fan eu...\n",
      "21102    game fun driving chalenge previous trucking ga...\n",
      "4039                                              god game\n",
      "7522           enjoy driving heavy vehicles realy god game\n",
      "10252                            hours game wel worth cost\n",
      "6870     relaxing game play time kil realy fun played r...\n",
      "3963     great game just chil cruise dev team great job...\n",
      "8963     god game like trucks ets mudflaps tractors rig...\n",
      "18335                                        canot driving\n",
      "5848                 probs best game exist change mind nuf\n",
      "11350    enjoy playing euro american truck simulators a...\n",
      "6384                                                   god\n",
      "4090                                                 great\n",
      "105      game wil take amazing graphics relaxing game p...\n",
      "17482                                   yust started great\n",
      "17179                                              god gem\n",
      "3354                                             like game\n",
      "6222                                                 worth\n",
      "Name: review, dtype: object\n"
     ]
    }
   ],
   "source": [
    "# Stopwords file\n",
    "file_path = '/kaggle/input/stopwords/stopwords.txt'\n",
    "\n",
    "# Open the file and read the lines\n",
    "with open(file_path, 'r') as f:\n",
    "    stop_words = f.readlines()\n",
    "\n",
    "# Remove any newline characters\n",
    "stop_words = [word.strip() for word in stop_words]\n",
    "\n",
    "\n",
    "def remove_stopwords(text):\n",
    "    words = text.split()\n",
    "    filtered_words = [word for word in words if word not in stop_words]\n",
    "    return \" \".join(filtered_words)\n",
    "\n",
    "\n",
    "# Apply the function to the data set\n",
    "data_6K.loc[:, 'review'] = data_6K.loc[:, 'review'].apply(remove_stopwords)\n",
    "\n",
    "\n",
    "print(data_6K.loc[:, 'review'].head(60))"
   ]
  },
  {
   "cell_type": "markdown",
   "id": "93f93204",
   "metadata": {
    "papermill": {
     "duration": 0.011834,
     "end_time": "2024-01-15T13:57:33.105260",
     "exception": false,
     "start_time": "2024-01-15T13:57:33.093426",
     "status": "completed"
    },
    "tags": []
   },
   "source": [
    "## Tokenization"
   ]
  },
  {
   "cell_type": "code",
   "execution_count": 11,
   "id": "b544e231",
   "metadata": {
    "execution": {
     "iopub.execute_input": "2024-01-15T13:57:33.131037Z",
     "iopub.status.busy": "2024-01-15T13:57:33.130575Z",
     "iopub.status.idle": "2024-01-15T13:57:35.159003Z",
     "shell.execute_reply": "2024-01-15T13:57:35.158053Z"
    },
    "papermill": {
     "duration": 2.044279,
     "end_time": "2024-01-15T13:57:35.161698",
     "exception": false,
     "start_time": "2024-01-15T13:57:33.117419",
     "status": "completed"
    },
    "tags": []
   },
   "outputs": [
    {
     "name": "stdout",
     "output_type": "stream",
     "text": [
      "5159                                     [rely, god, game]\n",
      "20828    [bit, history, truck, driving, simulators, day...\n",
      "12206                                                   []\n",
      "516                                                [great]\n",
      "754        [game, amazing, easily, modable, awesome, play]\n",
      "16425                  [loks, amazing, fels, like, oregon]\n",
      "11846                               [best, game, relaxing]\n",
      "11656                               [awesome, game, cheap]\n",
      "3364     [absolutely, love, game, customization, option...\n",
      "2158                                          [fun, drive]\n",
      "1411       [like, simulators, wil, definitely, enjoy, sim]\n",
      "18028         [surprises, sothing, game, like, can, times]\n",
      "13313                                      [amazing, game]\n",
      "9608     [people, who, loves, thought, being, truck, dr...\n",
      "5521                                        [fun, updates]\n",
      "21294    [played, afroamerican, didn´t, shot, police, l...\n",
      "22374    [fantastic, sure, theres, alot, mising, just, ...\n",
      "740      [driving, simulators, trucks, enjoy, heard, ac...\n",
      "16889    [ful, cdl, driven, semi, road, yearsthis, time...\n",
      "2223                                          [love, game]\n",
      "13891    [ats, games, can, just, sit, back, relax, list...\n",
      "10118                                [amazing, game, play]\n",
      "21539                              [realy, fantasty, game]\n",
      "5270     [great, game, ben, using, vr, implementation, ...\n",
      "1068                     [yeah, nah, prity, god, game, ay]\n",
      "6050     [life, like, god, training, simulator, just, fun]\n",
      "20556                             [amazing, just, amazing]\n",
      "12984                                              [liked]\n",
      "20257    [journey, destination, pros, rich, open, world...\n",
      "1489                                              [neowhn]\n",
      "8641     [amazing, game, amazing, graphics, extremely, ...\n",
      "7055                              [games, bored, comeback]\n",
      "15555                    [obviously, beter, graphics, ets]\n",
      "1948                                           [god, game]\n",
      "5983                                            [god, fun]\n",
      "23722    [great, game, masive, potential, hope, kep, ex...\n",
      "12344     [love, game, wish, alot, states, time, wil, tel]\n",
      "6913     [american, truck, sim, cousin, european, truck...\n",
      "15143                                    [fun, game, play]\n",
      "3974            [love, semi, trucks, driving, games, game]\n",
      "1053     [whole, diferent, experience, europe, truck, s...\n",
      "22001    [amazing, game, pc, powerful, can, only, handl...\n",
      "642      [just, fun, open, world, game, love, game, hug...\n",
      "21102    [game, fun, driving, chalenge, previous, truck...\n",
      "4039                                           [god, game]\n",
      "7522     [enjoy, driving, heavy, vehicles, realy, god, ...\n",
      "10252                      [hours, game, wel, worth, cost]\n",
      "6870     [relaxing, game, play, time, kil, realy, fun, ...\n",
      "3963     [great, game, just, chil, cruise, dev, team, g...\n",
      "8963     [god, game, like, trucks, ets, mudflaps, tract...\n",
      "18335                                     [canot, driving]\n",
      "5848         [probs, best, game, exist, change, mind, nuf]\n",
      "11350    [enjoy, playing, euro, american, truck, simula...\n",
      "6384                                                 [god]\n",
      "4090                                               [great]\n",
      "105      [game, wil, take, amazing, graphics, relaxing,...\n",
      "17482                               [yust, started, great]\n",
      "17179                                           [god, gem]\n",
      "3354                                          [like, game]\n",
      "6222                                               [worth]\n",
      "Name: tokens, dtype: object\n"
     ]
    }
   ],
   "source": [
    "def tokenizeText (text) :\n",
    "    word_tokens = nltk.word_tokenize(text)\n",
    "    return word_tokens\n",
    "\n",
    "# Tokenize the dataset\n",
    "data_6K.loc[:, 'tokens'] = data_6K['review'].apply(tokenizeText)\n",
    "\n",
    "print(data_6K.loc[:, 'tokens'].head(60))"
   ]
  },
  {
   "cell_type": "markdown",
   "id": "28e967b9",
   "metadata": {
    "papermill": {
     "duration": 0.012497,
     "end_time": "2024-01-15T13:57:35.186786",
     "exception": false,
     "start_time": "2024-01-15T13:57:35.174289",
     "status": "completed"
    },
    "tags": []
   },
   "source": [
    "### Stemming"
   ]
  },
  {
   "cell_type": "code",
   "execution_count": 12,
   "id": "4e0433e9",
   "metadata": {
    "execution": {
     "iopub.execute_input": "2024-01-15T13:57:35.213102Z",
     "iopub.status.busy": "2024-01-15T13:57:35.212362Z",
     "iopub.status.idle": "2024-01-15T13:57:40.684188Z",
     "shell.execute_reply": "2024-01-15T13:57:40.681184Z"
    },
    "papermill": {
     "duration": 5.488343,
     "end_time": "2024-01-15T13:57:40.687149",
     "exception": false,
     "start_time": "2024-01-15T13:57:35.198806",
     "status": "completed"
    },
    "tags": []
   },
   "outputs": [
    {
     "name": "stdout",
     "output_type": "stream",
     "text": [
      "5159                                     [reli, god, game]\n",
      "20828    [bit, histori, truck, drive, simul, day, sc, s...\n",
      "12206                                                   []\n",
      "516                                                [great]\n",
      "754             [game, amaz, easili, modabl, awesom, play]\n",
      "16425                       [lok, amaz, fel, like, oregon]\n",
      "11846                                  [best, game, relax]\n",
      "11656                                [awesom, game, cheap]\n",
      "3364     [absolut, love, game, custom, option, truck, s...\n",
      "2158                                          [fun, drive]\n",
      "1411               [like, simul, wil, definit, enjoy, sim]\n",
      "18028               [surpris, soth, game, like, can, time]\n",
      "13313                                         [amaz, game]\n",
      "9608     [peopl, who, love, thought, be, truck, driver,...\n",
      "5521                                          [fun, updat]\n",
      "21294    [play, afroamerican, didn´t, shot, polic, lack...\n",
      "22374    [fantast, sure, there, alot, mise, just, came,...\n",
      "740      [drive, simul, truck, enjoy, heard, actuali, p...\n",
      "16889    [ful, cdl, driven, semi, road, yearsthi, time,...\n",
      "2223                                          [love, game]\n",
      "13891    [at, game, can, just, sit, back, relax, listen...\n",
      "10118                                   [amaz, game, play]\n",
      "21539                              [reali, fantasti, game]\n",
      "5270     [great, game, ben, use, vr, implement, found, ...\n",
      "1068                     [yeah, nah, priti, god, game, ay]\n",
      "6050            [life, like, god, train, simul, just, fun]\n",
      "20556                                   [amaz, just, amaz]\n",
      "12984                                               [like]\n",
      "20257    [journey, destin, pro, rich, open, world, imer...\n",
      "1489                                              [neowhn]\n",
      "8641     [amaz, game, amaz, graphic, extrem, realist, t...\n",
      "7055                                [game, bore, comeback]\n",
      "15555                        [obvious, beter, graphic, et]\n",
      "1948                                           [god, game]\n",
      "5983                                            [god, fun]\n",
      "23722    [great, game, masiv, potenti, hope, kep, expan...\n",
      "12344      [love, game, wish, alot, state, time, wil, tel]\n",
      "6913     [american, truck, sim, cousin, european, truck...\n",
      "15143                                    [fun, game, play]\n",
      "3974                [love, semi, truck, drive, game, game]\n",
      "1053           [whole, difer, experi, europ, truck, simul]\n",
      "22001    [amaz, game, pc, power, can, onli, handl, medi...\n",
      "642      [just, fun, open, world, game, love, game, hug...\n",
      "21102    [game, fun, drive, chaleng, previou, truck, ga...\n",
      "4039                                           [god, game]\n",
      "7522       [enjoy, drive, heavi, vehicl, reali, god, game]\n",
      "10252                       [hour, game, wel, worth, cost]\n",
      "6870     [relax, game, play, time, kil, reali, fun, pla...\n",
      "3963     [great, game, just, chil, cruis, dev, team, gr...\n",
      "8963     [god, game, like, truck, et, mudflap, tractor,...\n",
      "18335                                       [canot, drive]\n",
      "5848           [prob, best, game, exist, chang, mind, nuf]\n",
      "11350    [enjoy, play, euro, american, truck, simul, an...\n",
      "6384                                                 [god]\n",
      "4090                                               [great]\n",
      "105      [game, wil, take, amaz, graphic, relax, game, ...\n",
      "17482                                 [yust, start, great]\n",
      "17179                                           [god, gem]\n",
      "3354                                          [like, game]\n",
      "6222                                               [worth]\n",
      "Name: stemmed_tokens, dtype: object\n"
     ]
    }
   ],
   "source": [
    "# Initialize the stemmer\n",
    "porter_stemmer = PorterStemmer()\n",
    "\n",
    "\n",
    "# Stem each word in the tokenized sentence\n",
    "data_6K['stemmed_tokens'] = data_6K['tokens'].apply(lambda x : [porter_stemmer.stem(y) for y in x])\n",
    "\n",
    "print(data_6K['stemmed_tokens'].head(60))\n"
   ]
  },
  {
   "cell_type": "markdown",
   "id": "86e7baf9",
   "metadata": {
    "papermill": {
     "duration": 0.011817,
     "end_time": "2024-01-15T13:57:40.711104",
     "exception": false,
     "start_time": "2024-01-15T13:57:40.699287",
     "status": "completed"
    },
    "tags": []
   },
   "source": [
    "# TEXT CLASSIFICATION"
   ]
  },
  {
   "cell_type": "code",
   "execution_count": 13,
   "id": "5f0d7302",
   "metadata": {
    "execution": {
     "iopub.execute_input": "2024-01-15T13:57:40.738568Z",
     "iopub.status.busy": "2024-01-15T13:57:40.737873Z",
     "iopub.status.idle": "2024-01-15T13:57:40.755663Z",
     "shell.execute_reply": "2024-01-15T13:57:40.754444Z"
    },
    "papermill": {
     "duration": 0.035543,
     "end_time": "2024-01-15T13:57:40.758559",
     "exception": false,
     "start_time": "2024-01-15T13:57:40.723016",
     "status": "completed"
    },
    "tags": []
   },
   "outputs": [],
   "source": [
    "# Splitting the dataset into train and test\n",
    "\n",
    "reviews = data_6K['stemmed_tokens'].values\n",
    "y = data_6K['voted_up'].values\n",
    "\n",
    "\n",
    "# Split 30% for test set, use stratified for same proportion of true and false from train and test\n",
    "reviews_train, reviews_test, y_train, y_test = train_test_split(reviews,y,test_size=0.30,stratify=y,random_state=101)"
   ]
  },
  {
   "cell_type": "code",
   "execution_count": 14,
   "id": "c3352947",
   "metadata": {
    "execution": {
     "iopub.execute_input": "2024-01-15T13:57:40.785073Z",
     "iopub.status.busy": "2024-01-15T13:57:40.784408Z",
     "iopub.status.idle": "2024-01-15T13:57:40.800936Z",
     "shell.execute_reply": "2024-01-15T13:57:40.799631Z"
    },
    "papermill": {
     "duration": 0.032462,
     "end_time": "2024-01-15T13:57:40.803560",
     "exception": false,
     "start_time": "2024-01-15T13:57:40.771098",
     "status": "completed"
    },
    "tags": []
   },
   "outputs": [],
   "source": [
    "# Join the tokens into a single string for each document\n",
    "reviews_train = [' '.join(doc) for doc in reviews_train]\n",
    "reviews_test = [' '.join(doc) for doc in reviews_test]\n"
   ]
  },
  {
   "cell_type": "code",
   "execution_count": 15,
   "id": "5cd87721",
   "metadata": {
    "execution": {
     "iopub.execute_input": "2024-01-15T13:57:40.829449Z",
     "iopub.status.busy": "2024-01-15T13:57:40.829024Z",
     "iopub.status.idle": "2024-01-15T13:57:41.191354Z",
     "shell.execute_reply": "2024-01-15T13:57:41.190272Z"
    },
    "papermill": {
     "duration": 0.37862,
     "end_time": "2024-01-15T13:57:41.194322",
     "exception": false,
     "start_time": "2024-01-15T13:57:40.815702",
     "status": "completed"
    },
    "tags": []
   },
   "outputs": [],
   "source": [
    "# Count Vectorizer\n",
    "vectorizer = CountVectorizer(min_df=3)\n",
    "vectorizer.fit(reviews_train)\n",
    "\n",
    "# Make a matrix of words and their counts\n",
    "X_train = vectorizer.transform(reviews_train)\n",
    "X_test = vectorizer.transform(reviews_test)"
   ]
  },
  {
   "cell_type": "code",
   "execution_count": 16,
   "id": "31885308",
   "metadata": {
    "execution": {
     "iopub.execute_input": "2024-01-15T13:57:41.220112Z",
     "iopub.status.busy": "2024-01-15T13:57:41.219680Z",
     "iopub.status.idle": "2024-01-15T13:57:41.236210Z",
     "shell.execute_reply": "2024-01-15T13:57:41.235027Z"
    },
    "papermill": {
     "duration": 0.032724,
     "end_time": "2024-01-15T13:57:41.239030",
     "exception": false,
     "start_time": "2024-01-15T13:57:41.206306",
     "status": "completed"
    },
    "tags": []
   },
   "outputs": [
    {
     "data": {
      "text/html": [
       "<div>\n",
       "<style scoped>\n",
       "    .dataframe tbody tr th:only-of-type {\n",
       "        vertical-align: middle;\n",
       "    }\n",
       "\n",
       "    .dataframe tbody tr th {\n",
       "        vertical-align: top;\n",
       "    }\n",
       "\n",
       "    .dataframe thead th {\n",
       "        text-align: right;\n",
       "    }\n",
       "</style>\n",
       "<table border=\"1\" class=\"dataframe\">\n",
       "  <thead>\n",
       "    <tr style=\"text-align: right;\">\n",
       "      <th></th>\n",
       "      <th>Data Set</th>\n",
       "      <th>Number of Rows</th>\n",
       "    </tr>\n",
       "  </thead>\n",
       "  <tbody>\n",
       "    <tr>\n",
       "      <th>0</th>\n",
       "      <td>Training Data</td>\n",
       "      <td>4512</td>\n",
       "    </tr>\n",
       "    <tr>\n",
       "      <th>1</th>\n",
       "      <td>Testing Data</td>\n",
       "      <td>1934</td>\n",
       "    </tr>\n",
       "  </tbody>\n",
       "</table>\n",
       "</div>"
      ],
      "text/plain": [
       "        Data Set  Number of Rows\n",
       "0  Training Data            4512\n",
       "1   Testing Data            1934"
      ]
     },
     "execution_count": 16,
     "metadata": {},
     "output_type": "execute_result"
    }
   ],
   "source": [
    "# Number of rows for traing and test sets\n",
    "num_rows = pd.DataFrame({\n",
    "    'Data Set': ['Training Data', 'Testing Data'],\n",
    "    'Number of Rows': [X_train.shape[0], X_test.shape[0]]\n",
    "})\n",
    "\n",
    "num_rows"
   ]
  },
  {
   "cell_type": "code",
   "execution_count": 17,
   "id": "014d451f",
   "metadata": {
    "execution": {
     "iopub.execute_input": "2024-01-15T13:57:41.265985Z",
     "iopub.status.busy": "2024-01-15T13:57:41.265064Z",
     "iopub.status.idle": "2024-01-15T13:57:41.286032Z",
     "shell.execute_reply": "2024-01-15T13:57:41.284688Z"
    },
    "papermill": {
     "duration": 0.038087,
     "end_time": "2024-01-15T13:57:41.289418",
     "exception": false,
     "start_time": "2024-01-15T13:57:41.251331",
     "status": "completed"
    },
    "tags": []
   },
   "outputs": [
    {
     "data": {
      "text/html": [
       "<div>\n",
       "<style scoped>\n",
       "    .dataframe tbody tr th:only-of-type {\n",
       "        vertical-align: middle;\n",
       "    }\n",
       "\n",
       "    .dataframe tbody tr th {\n",
       "        vertical-align: top;\n",
       "    }\n",
       "\n",
       "    .dataframe thead th {\n",
       "        text-align: right;\n",
       "    }\n",
       "</style>\n",
       "<table border=\"1\" class=\"dataframe\">\n",
       "  <thead>\n",
       "    <tr style=\"text-align: right;\">\n",
       "      <th></th>\n",
       "      <th>Word</th>\n",
       "      <th>Count</th>\n",
       "    </tr>\n",
       "  </thead>\n",
       "  <tbody>\n",
       "    <tr>\n",
       "      <th>882</th>\n",
       "      <td>game</td>\n",
       "      <td>5626</td>\n",
       "    </tr>\n",
       "    <tr>\n",
       "      <th>2226</th>\n",
       "      <td>truck</td>\n",
       "      <td>2837</td>\n",
       "    </tr>\n",
       "    <tr>\n",
       "      <th>1234</th>\n",
       "      <td>like</td>\n",
       "      <td>1294</td>\n",
       "    </tr>\n",
       "    <tr>\n",
       "      <th>1577</th>\n",
       "      <td>play</td>\n",
       "      <td>1228</td>\n",
       "    </tr>\n",
       "    <tr>\n",
       "      <th>616</th>\n",
       "      <td>drive</td>\n",
       "      <td>1180</td>\n",
       "    </tr>\n",
       "    <tr>\n",
       "      <th>...</th>\n",
       "      <td>...</td>\n",
       "      <td>...</td>\n",
       "    </tr>\n",
       "    <tr>\n",
       "      <th>1965</th>\n",
       "      <td>skipe</td>\n",
       "      <td>3</td>\n",
       "    </tr>\n",
       "    <tr>\n",
       "      <th>733</th>\n",
       "      <td>expert</td>\n",
       "      <td>3</td>\n",
       "    </tr>\n",
       "    <tr>\n",
       "      <th>1425</th>\n",
       "      <td>nich</td>\n",
       "      <td>3</td>\n",
       "    </tr>\n",
       "    <tr>\n",
       "      <th>743</th>\n",
       "      <td>extremli</td>\n",
       "      <td>3</td>\n",
       "    </tr>\n",
       "    <tr>\n",
       "      <th>1487</th>\n",
       "      <td>opinon</td>\n",
       "      <td>3</td>\n",
       "    </tr>\n",
       "  </tbody>\n",
       "</table>\n",
       "<p>2446 rows × 2 columns</p>\n",
       "</div>"
      ],
      "text/plain": [
       "          Word  Count\n",
       "882       game   5626\n",
       "2226     truck   2837\n",
       "1234      like   1294\n",
       "1577      play   1228\n",
       "616      drive   1180\n",
       "...        ...    ...\n",
       "1965     skipe      3\n",
       "733     expert      3\n",
       "1425      nich      3\n",
       "743   extremli      3\n",
       "1487    opinon      3\n",
       "\n",
       "[2446 rows x 2 columns]"
      ]
     },
     "execution_count": 17,
     "metadata": {},
     "output_type": "execute_result"
    }
   ],
   "source": [
    "# Get the features and count the words\n",
    "\n",
    "word_list = vectorizer.get_feature_names_out()\n",
    "count_list = np.asarray(X_train.sum(axis=0))[0]\n",
    "\n",
    "# Create a DataFrame from the feature(reviews) and counts\n",
    "counts = pd.DataFrame({'Word': word_list, 'Count': count_list})\n",
    "\n",
    "# Sort the DataFrame by 'Count' in descending order\n",
    "counts = counts.sort_values('Count', ascending=False)\n",
    "\n",
    "counts"
   ]
  },
  {
   "cell_type": "code",
   "execution_count": 18,
   "id": "1578d070",
   "metadata": {
    "execution": {
     "iopub.execute_input": "2024-01-15T13:57:41.319496Z",
     "iopub.status.busy": "2024-01-15T13:57:41.319092Z",
     "iopub.status.idle": "2024-01-15T13:57:42.509112Z",
     "shell.execute_reply": "2024-01-15T13:57:42.507728Z"
    },
    "papermill": {
     "duration": 1.207806,
     "end_time": "2024-01-15T13:57:42.511816",
     "exception": false,
     "start_time": "2024-01-15T13:57:41.304010",
     "status": "completed"
    },
    "tags": []
   },
   "outputs": [
    {
     "data": {
      "text/html": [
       "<style>#sk-container-id-1 {color: black;background-color: white;}#sk-container-id-1 pre{padding: 0;}#sk-container-id-1 div.sk-toggleable {background-color: white;}#sk-container-id-1 label.sk-toggleable__label {cursor: pointer;display: block;width: 100%;margin-bottom: 0;padding: 0.3em;box-sizing: border-box;text-align: center;}#sk-container-id-1 label.sk-toggleable__label-arrow:before {content: \"▸\";float: left;margin-right: 0.25em;color: #696969;}#sk-container-id-1 label.sk-toggleable__label-arrow:hover:before {color: black;}#sk-container-id-1 div.sk-estimator:hover label.sk-toggleable__label-arrow:before {color: black;}#sk-container-id-1 div.sk-toggleable__content {max-height: 0;max-width: 0;overflow: hidden;text-align: left;background-color: #f0f8ff;}#sk-container-id-1 div.sk-toggleable__content pre {margin: 0.2em;color: black;border-radius: 0.25em;background-color: #f0f8ff;}#sk-container-id-1 input.sk-toggleable__control:checked~div.sk-toggleable__content {max-height: 200px;max-width: 100%;overflow: auto;}#sk-container-id-1 input.sk-toggleable__control:checked~label.sk-toggleable__label-arrow:before {content: \"▾\";}#sk-container-id-1 div.sk-estimator input.sk-toggleable__control:checked~label.sk-toggleable__label {background-color: #d4ebff;}#sk-container-id-1 div.sk-label input.sk-toggleable__control:checked~label.sk-toggleable__label {background-color: #d4ebff;}#sk-container-id-1 input.sk-hidden--visually {border: 0;clip: rect(1px 1px 1px 1px);clip: rect(1px, 1px, 1px, 1px);height: 1px;margin: -1px;overflow: hidden;padding: 0;position: absolute;width: 1px;}#sk-container-id-1 div.sk-estimator {font-family: monospace;background-color: #f0f8ff;border: 1px dotted black;border-radius: 0.25em;box-sizing: border-box;margin-bottom: 0.5em;}#sk-container-id-1 div.sk-estimator:hover {background-color: #d4ebff;}#sk-container-id-1 div.sk-parallel-item::after {content: \"\";width: 100%;border-bottom: 1px solid gray;flex-grow: 1;}#sk-container-id-1 div.sk-label:hover label.sk-toggleable__label {background-color: #d4ebff;}#sk-container-id-1 div.sk-serial::before {content: \"\";position: absolute;border-left: 1px solid gray;box-sizing: border-box;top: 0;bottom: 0;left: 50%;z-index: 0;}#sk-container-id-1 div.sk-serial {display: flex;flex-direction: column;align-items: center;background-color: white;padding-right: 0.2em;padding-left: 0.2em;position: relative;}#sk-container-id-1 div.sk-item {position: relative;z-index: 1;}#sk-container-id-1 div.sk-parallel {display: flex;align-items: stretch;justify-content: center;background-color: white;position: relative;}#sk-container-id-1 div.sk-item::before, #sk-container-id-1 div.sk-parallel-item::before {content: \"\";position: absolute;border-left: 1px solid gray;box-sizing: border-box;top: 0;bottom: 0;left: 50%;z-index: -1;}#sk-container-id-1 div.sk-parallel-item {display: flex;flex-direction: column;z-index: 1;position: relative;background-color: white;}#sk-container-id-1 div.sk-parallel-item:first-child::after {align-self: flex-end;width: 50%;}#sk-container-id-1 div.sk-parallel-item:last-child::after {align-self: flex-start;width: 50%;}#sk-container-id-1 div.sk-parallel-item:only-child::after {width: 0;}#sk-container-id-1 div.sk-dashed-wrapped {border: 1px dashed gray;margin: 0 0.4em 0.5em 0.4em;box-sizing: border-box;padding-bottom: 0.4em;background-color: white;}#sk-container-id-1 div.sk-label label {font-family: monospace;font-weight: bold;display: inline-block;line-height: 1.2em;}#sk-container-id-1 div.sk-label-container {text-align: center;}#sk-container-id-1 div.sk-container {/* jupyter's `normalize.less` sets `[hidden] { display: none; }` but bootstrap.min.css set `[hidden] { display: none !important; }` so we also need the `!important` here to be able to override the default hidden behavior on the sphinx rendered scikit-learn.org. See: https://github.com/scikit-learn/scikit-learn/issues/21755 */display: inline-block !important;position: relative;}#sk-container-id-1 div.sk-text-repr-fallback {display: none;}</style><div id=\"sk-container-id-1\" class=\"sk-top-container\"><div class=\"sk-text-repr-fallback\"><pre>Pipeline(steps=[(&#x27;RandomUnderSampler&#x27;, RandomUnderSampler()),\n",
       "                (&#x27;clf&#x27;, RandomForestClassifier(class_weight=&#x27;balanced&#x27;))])</pre><b>In a Jupyter environment, please rerun this cell to show the HTML representation or trust the notebook. <br />On GitHub, the HTML representation is unable to render, please try loading this page with nbviewer.org.</b></div><div class=\"sk-container\" hidden><div class=\"sk-item sk-dashed-wrapped\"><div class=\"sk-label-container\"><div class=\"sk-label sk-toggleable\"><input class=\"sk-toggleable__control sk-hidden--visually\" id=\"sk-estimator-id-1\" type=\"checkbox\" ><label for=\"sk-estimator-id-1\" class=\"sk-toggleable__label sk-toggleable__label-arrow\">Pipeline</label><div class=\"sk-toggleable__content\"><pre>Pipeline(steps=[(&#x27;RandomUnderSampler&#x27;, RandomUnderSampler()),\n",
       "                (&#x27;clf&#x27;, RandomForestClassifier(class_weight=&#x27;balanced&#x27;))])</pre></div></div></div><div class=\"sk-serial\"><div class=\"sk-item\"><div class=\"sk-estimator sk-toggleable\"><input class=\"sk-toggleable__control sk-hidden--visually\" id=\"sk-estimator-id-2\" type=\"checkbox\" ><label for=\"sk-estimator-id-2\" class=\"sk-toggleable__label sk-toggleable__label-arrow\">RandomUnderSampler</label><div class=\"sk-toggleable__content\"><pre>RandomUnderSampler()</pre></div></div></div><div class=\"sk-item\"><div class=\"sk-estimator sk-toggleable\"><input class=\"sk-toggleable__control sk-hidden--visually\" id=\"sk-estimator-id-3\" type=\"checkbox\" ><label for=\"sk-estimator-id-3\" class=\"sk-toggleable__label sk-toggleable__label-arrow\">RandomForestClassifier</label><div class=\"sk-toggleable__content\"><pre>RandomForestClassifier(class_weight=&#x27;balanced&#x27;)</pre></div></div></div></div></div></div></div>"
      ],
      "text/plain": [
       "Pipeline(steps=[('RandomUnderSampler', RandomUnderSampler()),\n",
       "                ('clf', RandomForestClassifier(class_weight='balanced'))])"
      ]
     },
     "execution_count": 18,
     "metadata": {},
     "output_type": "execute_result"
    }
   ],
   "source": [
    "# Using RandomUnderSampler to handle imbalance of class\n",
    "# Using Random forest to train the data with balanced class weight\n",
    "\n",
    "classifier = Pipeline([\n",
    "    ('RandomUnderSampler', RandomUnderSampler()),\n",
    "    ('clf', RandomForestClassifier(class_weight='balanced'))\n",
    "])\n",
    "\n",
    "# Fit the model to your training data\n",
    "classifier.fit(X_train, y_train)"
   ]
  },
  {
   "cell_type": "code",
   "execution_count": 19,
   "id": "03bbfaf3",
   "metadata": {
    "execution": {
     "iopub.execute_input": "2024-01-15T13:57:42.540202Z",
     "iopub.status.busy": "2024-01-15T13:57:42.539482Z",
     "iopub.status.idle": "2024-01-15T13:57:42.679010Z",
     "shell.execute_reply": "2024-01-15T13:57:42.677733Z"
    },
    "papermill": {
     "duration": 0.156968,
     "end_time": "2024-01-15T13:57:42.681623",
     "exception": false,
     "start_time": "2024-01-15T13:57:42.524655",
     "status": "completed"
    },
    "tags": []
   },
   "outputs": [
    {
     "data": {
      "text/html": [
       "<div>\n",
       "<style scoped>\n",
       "    .dataframe tbody tr th:only-of-type {\n",
       "        vertical-align: middle;\n",
       "    }\n",
       "\n",
       "    .dataframe tbody tr th {\n",
       "        vertical-align: top;\n",
       "    }\n",
       "\n",
       "    .dataframe thead th {\n",
       "        text-align: right;\n",
       "    }\n",
       "</style>\n",
       "<table border=\"1\" class=\"dataframe\">\n",
       "  <thead>\n",
       "    <tr style=\"text-align: right;\">\n",
       "      <th>Predicted</th>\n",
       "      <th>False</th>\n",
       "      <th>True</th>\n",
       "      <th>All</th>\n",
       "    </tr>\n",
       "    <tr>\n",
       "      <th>Actual</th>\n",
       "      <th></th>\n",
       "      <th></th>\n",
       "      <th></th>\n",
       "    </tr>\n",
       "  </thead>\n",
       "  <tbody>\n",
       "    <tr>\n",
       "      <th>False</th>\n",
       "      <td>241</td>\n",
       "      <td>47</td>\n",
       "      <td>288</td>\n",
       "    </tr>\n",
       "    <tr>\n",
       "      <th>True</th>\n",
       "      <td>388</td>\n",
       "      <td>1258</td>\n",
       "      <td>1646</td>\n",
       "    </tr>\n",
       "    <tr>\n",
       "      <th>All</th>\n",
       "      <td>629</td>\n",
       "      <td>1305</td>\n",
       "      <td>1934</td>\n",
       "    </tr>\n",
       "  </tbody>\n",
       "</table>\n",
       "</div>"
      ],
      "text/plain": [
       "Predicted  False  True   All\n",
       "Actual                      \n",
       "False        241    47   288\n",
       "True         388  1258  1646\n",
       "All          629  1305  1934"
      ]
     },
     "execution_count": 19,
     "metadata": {},
     "output_type": "execute_result"
    }
   ],
   "source": [
    "# Prediction & Performance\n",
    "y_pred = classifier.predict(X_test)\n",
    "confusion_matrix(y_test, y_pred)\n",
    "pd.crosstab(y_test, y_pred, rownames = ['Actual'],colnames =['Predicted'], margins = True)"
   ]
  },
  {
   "cell_type": "code",
   "execution_count": 20,
   "id": "294b9cb6",
   "metadata": {
    "execution": {
     "iopub.execute_input": "2024-01-15T13:57:42.773096Z",
     "iopub.status.busy": "2024-01-15T13:57:42.772671Z",
     "iopub.status.idle": "2024-01-15T13:57:42.865214Z",
     "shell.execute_reply": "2024-01-15T13:57:42.863880Z"
    },
    "papermill": {
     "duration": 0.109668,
     "end_time": "2024-01-15T13:57:42.867819",
     "exception": false,
     "start_time": "2024-01-15T13:57:42.758151",
     "status": "completed"
    },
    "tags": []
   },
   "outputs": [
    {
     "name": "stdout",
     "output_type": "stream",
     "text": [
      "Accuracy: 0.7750775594622544\n"
     ]
    }
   ],
   "source": [
    "# Accuracy\n",
    "\n",
    "score = classifier.score(X_test, y_test)\n",
    "print(\"Accuracy:\", score)"
   ]
  },
  {
   "cell_type": "code",
   "execution_count": 21,
   "id": "79ec6bc1",
   "metadata": {
    "execution": {
     "iopub.execute_input": "2024-01-15T13:57:42.896548Z",
     "iopub.status.busy": "2024-01-15T13:57:42.896134Z",
     "iopub.status.idle": "2024-01-15T13:57:43.027997Z",
     "shell.execute_reply": "2024-01-15T13:57:43.026558Z"
    },
    "papermill": {
     "duration": 0.149473,
     "end_time": "2024-01-15T13:57:43.030705",
     "exception": false,
     "start_time": "2024-01-15T13:57:42.881232",
     "status": "completed"
    },
    "tags": []
   },
   "outputs": [
    {
     "name": "stdout",
     "output_type": "stream",
     "text": [
      "              precision    recall  f1-score   support\n",
      "\n",
      "       False       0.38      0.84      0.53       288\n",
      "        True       0.96      0.76      0.85      1646\n",
      "\n",
      "    accuracy                           0.78      1934\n",
      "   macro avg       0.67      0.80      0.69      1934\n",
      "weighted avg       0.88      0.78      0.80      1934\n",
      "\n"
     ]
    }
   ],
   "source": [
    "print(classification_report(y_test, y_pred))"
   ]
  },
  {
   "cell_type": "markdown",
   "id": "7fba1655",
   "metadata": {
    "papermill": {
     "duration": 0.013469,
     "end_time": "2024-01-15T13:57:43.058343",
     "exception": false,
     "start_time": "2024-01-15T13:57:43.044874",
     "status": "completed"
    },
    "tags": []
   },
   "source": [
    "# End of codes..."
   ]
  }
 ],
 "metadata": {
  "kaggle": {
   "accelerator": "none",
   "dataSources": [
    {
     "datasetId": 1003424,
     "sourceId": 1692967,
     "sourceType": "datasetVersion"
    },
    {
     "datasetId": 4288521,
     "sourceId": 7379588,
     "sourceType": "datasetVersion"
    }
   ],
   "dockerImageVersionId": 30635,
   "isGpuEnabled": false,
   "isInternetEnabled": false,
   "language": "python",
   "sourceType": "notebook"
  },
  "kernelspec": {
   "display_name": "Python 3",
   "language": "python",
   "name": "python3"
  },
  "language_info": {
   "codemirror_mode": {
    "name": "ipython",
    "version": 3
   },
   "file_extension": ".py",
   "mimetype": "text/x-python",
   "name": "python",
   "nbconvert_exporter": "python",
   "pygments_lexer": "ipython3",
   "version": "3.10.12"
  },
  "papermill": {
   "default_parameters": {},
   "duration": 25.955306,
   "end_time": "2024-01-15T13:57:43.894325",
   "environment_variables": {},
   "exception": null,
   "input_path": "__notebook__.ipynb",
   "output_path": "__notebook__.ipynb",
   "parameters": {},
   "start_time": "2024-01-15T13:57:17.939019",
   "version": "2.4.0"
  }
 },
 "nbformat": 4,
 "nbformat_minor": 5
}
