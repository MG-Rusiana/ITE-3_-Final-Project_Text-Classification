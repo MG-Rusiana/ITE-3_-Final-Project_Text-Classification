{
 "cells": [
  {
   "cell_type": "code",
   "execution_count": 1,
   "id": "acb3c8f2",
   "metadata": {
    "execution": {
     "iopub.execute_input": "2024-01-13T01:36:18.756116Z",
     "iopub.status.busy": "2024-01-13T01:36:18.755325Z",
     "iopub.status.idle": "2024-01-13T01:36:21.695540Z",
     "shell.execute_reply": "2024-01-13T01:36:21.694382Z"
    },
    "papermill": {
     "duration": 2.956553,
     "end_time": "2024-01-13T01:36:21.698649",
     "exception": false,
     "start_time": "2024-01-13T01:36:18.742096",
     "status": "completed"
    },
    "tags": []
   },
   "outputs": [],
   "source": [
    "import numpy as np \n",
    "import pandas as pd \n",
    "import nltk\n",
    "import re\n",
    "import string\n",
    "from nltk.tokenize import word_tokenize\n",
    "from nltk.stem import PorterStemmer\n",
    "from sklearn.model_selection import train_test_split\n",
    "from sklearn.feature_extraction.text import CountVectorizer\n",
    "from sklearn.metrics import confusion_matrix\n",
    "from sklearn.metrics import classification_report\n",
    "from sklearn.linear_model import LogisticRegression\n",
    "from sklearn.feature_extraction.text import TfidfVectorizer"
   ]
  },
  {
   "cell_type": "markdown",
   "id": "37232661",
   "metadata": {
    "papermill": {
     "duration": 0.009644,
     "end_time": "2024-01-13T01:36:21.718601",
     "exception": false,
     "start_time": "2024-01-13T01:36:21.708957",
     "status": "completed"
    },
    "tags": []
   },
   "source": [
    "# Loading the dataset"
   ]
  },
  {
   "cell_type": "code",
   "execution_count": 2,
   "id": "97730afa",
   "metadata": {
    "execution": {
     "iopub.execute_input": "2024-01-13T01:36:21.740932Z",
     "iopub.status.busy": "2024-01-13T01:36:21.740154Z",
     "iopub.status.idle": "2024-01-13T01:36:22.137710Z",
     "shell.execute_reply": "2024-01-13T01:36:22.136151Z"
    },
    "papermill": {
     "duration": 0.412284,
     "end_time": "2024-01-13T01:36:22.140765",
     "exception": false,
     "start_time": "2024-01-13T01:36:21.728481",
     "status": "completed"
    },
    "tags": []
   },
   "outputs": [
    {
     "data": {
      "text/plain": [
       "Unnamed: 0                        24302\n",
       "recommendationid                  24302\n",
       "language                          24302\n",
       "review                            24236\n",
       "timestamp_created                 24302\n",
       "timestamp_updated                 24302\n",
       "voted_up                          24302\n",
       "votes_up                          24302\n",
       "votes_funny                       24302\n",
       "weighted_vote_score               24302\n",
       "comment_count                     24302\n",
       "steam_purchase                    24302\n",
       "received_for_free                 24302\n",
       "written_during_early_access       24302\n",
       "author.steamid                    24302\n",
       "author.num_games_owned            24302\n",
       "author.num_reviews                24302\n",
       "author.playtime_forever           24302\n",
       "author.playtime_last_two_weeks    24302\n",
       "author.playtime_at_review         24277\n",
       "author.last_played                24302\n",
       "timestamp_dev_responded               2\n",
       "developer_response                    2\n",
       "dtype: int64"
      ]
     },
     "execution_count": 2,
     "metadata": {},
     "output_type": "execute_result"
    }
   ],
   "source": [
    "# loading the data set\n",
    "dataset = pd.read_csv(\"/kaggle/input/americantrucksimulator/AmericanTruckSimulator.csv\")\n",
    "\n",
    "\n",
    "dataset.count()"
   ]
  },
  {
   "cell_type": "markdown",
   "id": "5a14c58b",
   "metadata": {
    "papermill": {
     "duration": 0.009927,
     "end_time": "2024-01-13T01:36:22.160973",
     "exception": false,
     "start_time": "2024-01-13T01:36:22.151046",
     "status": "completed"
    },
    "tags": []
   },
   "source": [
    "# Only use the first 8000 rows out of 2400+"
   ]
  },
  {
   "cell_type": "code",
   "execution_count": 3,
   "id": "6e8b1abf",
   "metadata": {
    "execution": {
     "iopub.execute_input": "2024-01-13T01:36:22.184232Z",
     "iopub.status.busy": "2024-01-13T01:36:22.183222Z",
     "iopub.status.idle": "2024-01-13T01:36:22.198919Z",
     "shell.execute_reply": "2024-01-13T01:36:22.197681Z"
    },
    "papermill": {
     "duration": 0.030605,
     "end_time": "2024-01-13T01:36:22.201697",
     "exception": false,
     "start_time": "2024-01-13T01:36:22.171092",
     "status": "completed"
    },
    "tags": []
   },
   "outputs": [
    {
     "data": {
      "text/plain": [
       "Unnamed: 0                        8000\n",
       "recommendationid                  8000\n",
       "language                          8000\n",
       "review                            7968\n",
       "timestamp_created                 8000\n",
       "timestamp_updated                 8000\n",
       "voted_up                          8000\n",
       "votes_up                          8000\n",
       "votes_funny                       8000\n",
       "weighted_vote_score               8000\n",
       "comment_count                     8000\n",
       "steam_purchase                    8000\n",
       "received_for_free                 8000\n",
       "written_during_early_access       8000\n",
       "author.steamid                    8000\n",
       "author.num_games_owned            8000\n",
       "author.num_reviews                8000\n",
       "author.playtime_forever           8000\n",
       "author.playtime_last_two_weeks    8000\n",
       "author.playtime_at_review         8000\n",
       "author.last_played                8000\n",
       "timestamp_dev_responded              0\n",
       "developer_response                   0\n",
       "dtype: int64"
      ]
     },
     "execution_count": 3,
     "metadata": {},
     "output_type": "execute_result"
    }
   ],
   "source": [
    "#Using only the first 8000 rows\n",
    "data_8K = dataset.head(8000)\n",
    "\n",
    "\n",
    "data_8K.count()"
   ]
  },
  {
   "cell_type": "markdown",
   "id": "6d59f51b",
   "metadata": {
    "papermill": {
     "duration": 0.010463,
     "end_time": "2024-01-13T01:36:22.223019",
     "exception": false,
     "start_time": "2024-01-13T01:36:22.212556",
     "status": "completed"
    },
    "tags": []
   },
   "source": [
    "#                                                           TEXT NORMALIZATION"
   ]
  },
  {
   "cell_type": "markdown",
   "id": "1453a14b",
   "metadata": {
    "papermill": {
     "duration": 0.010114,
     "end_time": "2024-01-13T01:36:22.243552",
     "exception": false,
     "start_time": "2024-01-13T01:36:22.233438",
     "status": "completed"
    },
    "tags": []
   },
   "source": [
    "## Data Cleaning"
   ]
  },
  {
   "cell_type": "code",
   "execution_count": 4,
   "id": "7768bc66",
   "metadata": {
    "execution": {
     "iopub.execute_input": "2024-01-13T01:36:22.266643Z",
     "iopub.status.busy": "2024-01-13T01:36:22.266124Z",
     "iopub.status.idle": "2024-01-13T01:36:22.301337Z",
     "shell.execute_reply": "2024-01-13T01:36:22.299335Z"
    },
    "papermill": {
     "duration": 0.050514,
     "end_time": "2024-01-13T01:36:22.304466",
     "exception": false,
     "start_time": "2024-01-13T01:36:22.253952",
     "status": "completed"
    },
    "tags": []
   },
   "outputs": [
    {
     "name": "stdout",
     "output_type": "stream",
     "text": [
      "0                                                   yes\n",
      "1     very fun. have a playlist of music to enhance ...\n",
      "2                                           grat game\\n\n",
      "3     no matter what you choose, enabled/disabled, o...\n",
      "4     so much fun. sounds boring, but i have found i...\n",
      "5     very good game but dont play it too much or it...\n",
      "6     i love the game its fun to play and i love rig...\n",
      "7                                                   ehh\n",
      "8     great sim game, there are a few little dislike...\n",
      "9     relax gameplay, pretty fun and gives you a sen...\n",
      "10    its a great game but much better with a steeri...\n",
      "11    love the detail and realism in this game a  mu...\n",
      "12    ats is one of those games where you can escape...\n",
      "13    awesome game my only question is where are the...\n",
      "14         love this game want to drive a truck one day\n",
      "15              amazing game! buy the heavy cargo pack.\n",
      "16                            it is a good game to play\n",
      "17       alright, needs more macks and overall awsome!!\n",
      "19    pretty nice game. the map has increase in size...\n",
      "20                                          awsome game\n",
      "21    good if you like trucks or learning about the ...\n",
      "22                     it's pretty good. i should know.\n",
      "23                                        the ai is ass\n",
      "24                                         not worth it\n",
      "25                                        very good yes\n",
      "26        one of the great pc games we'll never forget.\n",
      "27                        just good nothing can beat it\n",
      "28                                just love the gamplay\n",
      "29                        good but no mercedes flatnose\n",
      "30    from point a to point b to get stacks of green...\n",
      "31                                             its cool\n",
      "32    i play truckermp more then solo player \\n\\nhtt...\n",
      "33    it's a great way to pass a bit of time.\\nincre...\n",
      "34                           excellent game. relaxing\\n\n",
      "35                                       very good game\n",
      "36    i like ats, it still needs more trucks, and lo...\n",
      "37                                                 dope\n",
      "38     nice game enjoying every moment i spent playing.\n",
      "39    super great experience driving a truck in amer...\n",
      "40    very fun game if you want to relax for a few h...\n",
      "41    well, first off it is a way to relax. i am a t...\n",
      "42            good game eli have huge pp no lie no scam\n",
      "43                                           great game\n",
      "44                                  its an amazing game\n",
      "45                                          i in lveo\\n\n",
      "46    this is a very good game.  i enjoy playing it....\n",
      "47     very fun truck game and fun for the whole family\n",
      "48                                                goood\n",
      "49    who the fuck wants to drive around arizona -- ...\n",
      "50                                                   gg\n",
      "51    well its been a long time since i have writen ...\n",
      "52    american truck simulator was released years ag...\n",
      "53    i have been playing scs games since pttm. i've...\n",
      "54                          this game is really awesome\n",
      "55    i have been a truck driver for the past 20 yea...\n",
      "56                               funnnnnnnnnnnnnnnnnnnn\n",
      "57    once i figured out the setting setup that work...\n",
      "58    as someone who works with a lot of truck drive...\n",
      "59    as the son and brother of a trucker.. this is ...\n",
      "60                                       good simulater\n",
      "Name: review, dtype: object\n"
     ]
    }
   ],
   "source": [
    "# dropping those with empty reviews\n",
    "data_8K = data_8K.dropna(subset=['review'])\n",
    "\n",
    "# Convert the 'review' column to string\n",
    "data_8K.loc[:, 'review'] = data_8K['review'].astype(str)\n",
    "\n",
    "\n",
    "# Convert 'review' column to lowercase\n",
    "data_8K.loc[:, 'review'] = data_8K.loc[:, 'review'].str.lower()\n",
    "\n",
    "\n",
    "\n",
    "print(data_8K.loc[:, 'review'].head(60))"
   ]
  },
  {
   "cell_type": "markdown",
   "id": "9fb0850d",
   "metadata": {
    "papermill": {
     "duration": 0.010194,
     "end_time": "2024-01-13T01:36:22.325330",
     "exception": false,
     "start_time": "2024-01-13T01:36:22.315136",
     "status": "completed"
    },
    "tags": []
   },
   "source": [
    "### Expanding Contractions"
   ]
  },
  {
   "cell_type": "code",
   "execution_count": 5,
   "id": "914d7ffe",
   "metadata": {
    "execution": {
     "iopub.execute_input": "2024-01-13T01:36:22.349282Z",
     "iopub.status.busy": "2024-01-13T01:36:22.348741Z",
     "iopub.status.idle": "2024-01-13T01:36:25.457858Z",
     "shell.execute_reply": "2024-01-13T01:36:25.456318Z"
    },
    "papermill": {
     "duration": 3.126257,
     "end_time": "2024-01-13T01:36:25.462304",
     "exception": false,
     "start_time": "2024-01-13T01:36:22.336047",
     "status": "completed"
    },
    "tags": []
   },
   "outputs": [
    {
     "name": "stdout",
     "output_type": "stream",
     "text": [
      "0                                                   yes\n",
      "1     very fun. have a playlist of music to enhance ...\n",
      "2                                           grat game\\n\n",
      "3     no matter what you choose, enabled/disabled, o...\n",
      "4     so much fun. sounds boring, but i have found i...\n",
      "5     very good game but dont play it too much or it...\n",
      "6     i love the game its fun to play and i love rig...\n",
      "7                                                   ehh\n",
      "8     great sim game, there are a few little dislike...\n",
      "9     relax gameplay, pretty fun and gives you a sen...\n",
      "10    its a great game but much better with a steeri...\n",
      "11    love the detail and realism in this game a  mu...\n",
      "12    ats is one of those games where you can escape...\n",
      "13    awesome game my only question is where are the...\n",
      "14         love this game want to drive a truck one day\n",
      "15              amazing game! buy the heavy cargo pack.\n",
      "16                            it is a good game to play\n",
      "17       alright, needs more macks and overall awsome!!\n",
      "19    pretty nice game. the map has increase in size...\n",
      "20                                          awsome game\n",
      "21    good if you like trucks or learning about the ...\n",
      "22                    it is pretty good. i should know.\n",
      "23                                        the ai is ass\n",
      "24                                         not worth it\n",
      "25                                        very good yes\n",
      "26      one of the great pc games we will never forget.\n",
      "27                        just good nothing can beat it\n",
      "28                                just love the gamplay\n",
      "29                        good but no mercedes flatnose\n",
      "30    from point a to point b to get stacks of green...\n",
      "31                                             its cool\n",
      "32    i play truckermp more then solo player \\n\\nhtt...\n",
      "33    it is a great way to pass a bit of time.\\nincr...\n",
      "34                           excellent game. relaxing\\n\n",
      "35                                       very good game\n",
      "36    i like ats, it still needs more trucks, and lo...\n",
      "37                                                 dope\n",
      "38     nice game enjoying every moment i spent playing.\n",
      "39    super great experience driving a truck in amer...\n",
      "40    very fun game if you want to relax for a few h...\n",
      "41    well, first off it is a way to relax. i am a t...\n",
      "42            good game eli have huge pp no lie no scam\n",
      "43                                           great game\n",
      "44                                  its an amazing game\n",
      "45                                          i in lveo\\n\n",
      "46    this is a very good game.  i enjoy playing it....\n",
      "47     very fun truck game and fun for the whole family\n",
      "48                                                goood\n",
      "49    who the fuck wants to drive around arizona -- ...\n",
      "50                                                   gg\n",
      "51    well its been a long time since i have writen ...\n",
      "52    american truck simulator was released years ag...\n",
      "53    i have been playing scs games since pttm. i ha...\n",
      "54                          this game is really awesome\n",
      "55    i have been a truck driver for the past 20 yea...\n",
      "56                               funnnnnnnnnnnnnnnnnnnn\n",
      "57    once i figured out the setting setup that work...\n",
      "58    as someone who works with a lot of truck drive...\n",
      "59    as the son and brother of a trucker.. this is ...\n",
      "60                                       good simulater\n",
      "Name: review, dtype: object\n"
     ]
    }
   ],
   "source": [
    "# Expanding contractions\n",
    "\n",
    "CONTRACTION_MAP = {\n",
    "    \"ain't\": \"is not\",\n",
    "    \"aren't\": \"are not\",\n",
    "    \"can't\": \"cannot\",\n",
    "    \"can't've\": \"cannot have\",\n",
    "    \"'cause\": \"because\",\n",
    "    \"could've\": \"could have\",\n",
    "    \"couldn't\": \"could not\",\n",
    "    \"couldn't've\": \"could not have\",\n",
    "    \"didn't\": \"did not\",\n",
    "    \"doesn't\": \"does not\",\n",
    "    \"don't\": \"do not\",\n",
    "    \"hadn't\": \"had not\",\n",
    "    \"hadn't've\": \"had not have\",\n",
    "    \"hasn't\": \"has not\",\n",
    "    \"haven't\": \"have not\",\n",
    "    \"he'd\": \"he would\",\n",
    "    \"he'd've\": \"he would have\",\n",
    "    \"he'll\": \"he will\",\n",
    "    \"he'll've\": \"he will have\",\n",
    "    \"he's\": \"he is\",\n",
    "    \"how'd\": \"how did\",\n",
    "    \"how'd'y\": \"how do you\",\n",
    "    \"how'll\": \"how will\",\n",
    "    \"how's\": \"how is\",\n",
    "    \"i'd\": \"I would\",\n",
    "    \"i'd've\": \"I would have\",\n",
    "    \"i'll\": \"I will\",\n",
    "    \"i'll've\": \"I will have\",\n",
    "    \"i'm\": \"I am\",\n",
    "    \"i've\": \"I have\",\n",
    "    \"isn't\": \"is not\",\n",
    "    \"it'd\": \"it would\",\n",
    "    \"it'd've\": \"it would have\",\n",
    "    \"it'll\": \"it will\",\n",
    "    \"it'll've\": \"it will have\",\n",
    "    \"it's\": \"it is\",\n",
    "    \"let's\": \"let us\",\n",
    "    \"ma'am\": \"madam\",\n",
    "    \"mayn't\": \"may not\",\n",
    "    \"might've\": \"might have\",\n",
    "    \"mightn't\": \"might not\",\n",
    "    \"mightn't've\": \"might not have\",\n",
    "    \"must've\": \"must have\",\n",
    "    \"mustn't\": \"must not\",\n",
    "    \"mustn't've\": \"must not have\",\n",
    "    \"needn't\": \"need not\",\n",
    "    \"needn't've\": \"need not have\",\n",
    "    \"o'clock\": \"of the clock\",\n",
    "    \"oughtn't\": \"ought not\",\n",
    "    \"oughtn't've\": \"ought not have\",\n",
    "    \"shan't\": \"shall not\",\n",
    "    \"sha'n't\": \"shall not\",\n",
    "    \"shan't've\": \"shall not have\",\n",
    "    \"she'd\": \"she would\",\n",
    "    \"she'd've\": \"she would have\",\n",
    "    \"she'll\": \"she will\",\n",
    "    \"she'll've\": \"she will have\",\n",
    "    \"she's\": \"she is\",\n",
    "    \"should've\": \"should have\",\n",
    "    \"shouldn't\": \"should not\",\n",
    "    \"shouldn't've\": \"should not have\",\n",
    "    \"so've\": \"so have\",\n",
    "    \"so's\": \"so is\",\n",
    "    \"that'd\": \"that would\",\n",
    "    \"that'd've\": \"that would have\",\n",
    "    \"that's\": \"that is\",\n",
    "    \"there'd\": \"there would\",\n",
    "    \"there'd've\": \"there would have\",\n",
    "    \"there's\": \"there is\",\n",
    "    \"they'd\": \"they would\",\n",
    "    \"they'd've\": \"they would have\",\n",
    "    \"they'll\": \"they will\",\n",
    "    \"they'll've\": \"they will have\",\n",
    "    \"they're\": \"they are\",\n",
    "    \"they've\": \"they have\",\n",
    "    \"to've\": \"to have\",\n",
    "    \"wasn't\": \"was not\",\n",
    "    \"we'd\": \"we would\",\n",
    "    \"we'd've\": \"we would have\",\n",
    "    \"we'll\": \"we will\",\n",
    "    \"we'll've\": \"we will have\",\n",
    "    \"we're\": \"we are\",\n",
    "    \"we've\": \"we have\",\n",
    "    \"weren't\": \"were not\",\n",
    "    \"what'll\": \"what will\",\n",
    "    \"what'll've\": \"what will have\",\n",
    "    \"what're\": \"what are\",\n",
    "    \"what's\": \"what is\",\n",
    "    \"what've\": \"what have\",\n",
    "    \"when's\": \"when is\",\n",
    "    \"when've\": \"when have\",\n",
    "    \"where'd\": \"where did\",\n",
    "    \"where's\": \"where is\",\n",
    "    \"where've\": \"where have\",\n",
    "    \"who'll\": \"who will\",\n",
    "    \"who'll've\": \"who will have\",\n",
    "    \"who's\": \"who is\",\n",
    "    \"who've\": \"who have\",\n",
    "    \"why's\": \"why is\",\n",
    "    \"why've\": \"why have\",\n",
    "    \"will've\": \"will have\",\n",
    "    \"won't\": \"will not\",\n",
    "    \"won't've\": \"will not have\",\n",
    "    \"would've\": \"would have\",\n",
    "    \"wouldn't\": \"would not\",\n",
    "    \"wouldn't've\": \"would not have\",\n",
    "    \"y'all\": \"you all\",\n",
    "    \"y'all'd\": \"you all would\",\n",
    "    \"y'all'd've\": \"you all would have\",\n",
    "    \"y'all're\": \"you all are\",\n",
    "    \"y'all've\": \"you all have\",\n",
    "    \"you'd\": \"you would\",\n",
    "    \"you'd've\": \"you would have\",\n",
    "    \"you'll\": \"you will\",\n",
    "    \"you'll've\": \"you will have\",\n",
    "    \"you're\": \"you are\",\n",
    "    \"you've\": \"you have\"\n",
    "}\n",
    "\n",
    "def expand_contractions(text, contraction_mapping=CONTRACTION_MAP):\n",
    "    contractions_pattern = re.compile('({})'.format('|'.join(contraction_mapping.keys())), \n",
    "                                      flags=re.IGNORECASE|re.DOTALL)\n",
    "    def expand_match(contraction):\n",
    "        match = contraction.group(0)\n",
    "        first_char = match[0]\n",
    "        expanded_contraction = contraction_mapping.get(match)\\\n",
    "                                if contraction_mapping.get(match)\\\n",
    "                                else contraction_mapping.get(match.lower())                       \n",
    "        expanded_contraction = first_char+expanded_contraction[1:]\n",
    "        return expanded_contraction\n",
    "        \n",
    "    expanded_text = contractions_pattern.sub(expand_match, text)\n",
    "    expanded_text = re.sub('\"', '', expanded_text)\n",
    "    return expanded_text\n",
    "\n",
    "# Expand contractions\n",
    "data_8K.loc[:, 'review'] = data_8K.loc[:, 'review'].apply(expand_contractions)\n",
    "\n",
    "print(data_8K.loc[:, 'review'].head(60))"
   ]
  },
  {
   "cell_type": "markdown",
   "id": "e3a8ab5a",
   "metadata": {
    "papermill": {
     "duration": 0.011039,
     "end_time": "2024-01-13T01:36:25.484027",
     "exception": false,
     "start_time": "2024-01-13T01:36:25.472988",
     "status": "completed"
    },
    "tags": []
   },
   "source": [
    "### Removing Punctations"
   ]
  },
  {
   "cell_type": "code",
   "execution_count": 6,
   "id": "da35cba1",
   "metadata": {
    "execution": {
     "iopub.execute_input": "2024-01-13T01:36:25.508297Z",
     "iopub.status.busy": "2024-01-13T01:36:25.507001Z",
     "iopub.status.idle": "2024-01-13T01:36:25.760737Z",
     "shell.execute_reply": "2024-01-13T01:36:25.759392Z"
    },
    "papermill": {
     "duration": 0.269484,
     "end_time": "2024-01-13T01:36:25.764151",
     "exception": false,
     "start_time": "2024-01-13T01:36:25.494667",
     "status": "completed"
    },
    "tags": []
   },
   "outputs": [
    {
     "name": "stdout",
     "output_type": "stream",
     "text": [
      "0                                                   yes\n",
      "1     very fun have a playlist of music to enhance e...\n",
      "2                                             grat game\n",
      "3     no matter what you choose enableddisabled onof...\n",
      "4     so much fun sounds boring but i have found it ...\n",
      "5     very good game but dont play it too much or it...\n",
      "6     i love the game its fun to play and i love rig...\n",
      "7                                                   ehh\n",
      "8     great sim game there are a few little dislike ...\n",
      "9     relax gameplay pretty fun and gives you a sens...\n",
      "10    its a great game but much better with a steeri...\n",
      "11    love the detail and realism in this game a  mu...\n",
      "12    ats is one of those games where you can escape...\n",
      "13    awesome game my only question is where are the...\n",
      "14         love this game want to drive a truck one day\n",
      "15                amazing game buy the heavy cargo pack\n",
      "16                            it is a good game to play\n",
      "17          alright needs more macks and overall awsome\n",
      "19    pretty nice game the map has increase in size ...\n",
      "20                                          awsome game\n",
      "21    good if you like trucks or learning about the ...\n",
      "22                      it is pretty good i should know\n",
      "23                                        the ai is ass\n",
      "24                                         not worth it\n",
      "25                                        very good yes\n",
      "26       one of the great pc games we will never forget\n",
      "27                        just good nothing can beat it\n",
      "28                                just love the gamplay\n",
      "29                        good but no mercedes flatnose\n",
      "30    from point a to point b to get stacks of green...\n",
      "31                                             its cool\n",
      "32    i play truckermp more then solo player \\n\\nhtt...\n",
      "33    it is a great way to pass a bit of time\\nincre...\n",
      "34                              excellent game relaxing\n",
      "35                                       very good game\n",
      "36    i like ats it still needs more trucks and loca...\n",
      "37                                                 dope\n",
      "38      nice game enjoying every moment i spent playing\n",
      "39    super great experience driving a truck in amer...\n",
      "40    very fun game if you want to relax for a few h...\n",
      "41    well first off it is a way to relax i am a tra...\n",
      "42            good game eli have huge pp no lie no scam\n",
      "43                                           great game\n",
      "44                                  its an amazing game\n",
      "45                                            i in lveo\n",
      "46    this is a very good game  i enjoy playing it  ...\n",
      "47     very fun truck game and fun for the whole family\n",
      "48                                                goood\n",
      "49    who the fuck wants to drive around arizona   m...\n",
      "50                                                   gg\n",
      "51    well its been a long time since i have writen ...\n",
      "52    american truck simulator was released years ag...\n",
      "53    i have been playing scs games since pttm i hav...\n",
      "54                          this game is really awesome\n",
      "55    i have been a truck driver for the past  years...\n",
      "56                               funnnnnnnnnnnnnnnnnnnn\n",
      "57    once i figured out the setting setup that work...\n",
      "58    as someone who works with a lot of truck drive...\n",
      "59    as the son and brother of a trucker this is pr...\n",
      "60                                       good simulater\n",
      "Name: review, dtype: object\n"
     ]
    }
   ],
   "source": [
    "# Removing punctations\n",
    "\n",
    "def remove_punct(my_str):\n",
    "    # define punctuation\n",
    "    punctuations = '''!()-[]{};:'.'\"\\,<>./?@#$%^-&_0123456789~*'''\n",
    "    \n",
    "    # remove punctuation from the string\n",
    "    no_punct = \"\"  \n",
    "    for char in my_str:\n",
    "        if char not in punctuations:\n",
    "            no_punct = no_punct + char\n",
    "        \n",
    "    return no_punct\n",
    "\n",
    "\n",
    "# Apply strip to remove leading and trailing spaces from each string in the ‘review’ column\n",
    "data_8K.loc[:, 'review'] = data_8K.loc[:, 'review'].str.strip()\n",
    "\n",
    "\n",
    "# Remove punctuation\n",
    "data_8K.loc[:, 'review'] = data_8K['review'].apply(remove_punct)\n",
    "\n",
    "\n",
    "\n",
    "\n",
    "\n",
    "print(data_8K.loc[:, 'review'].head(60))"
   ]
  },
  {
   "cell_type": "markdown",
   "id": "9d08fc06",
   "metadata": {
    "papermill": {
     "duration": 0.010516,
     "end_time": "2024-01-13T01:36:25.785721",
     "exception": false,
     "start_time": "2024-01-13T01:36:25.775205",
     "status": "completed"
    },
    "tags": []
   },
   "source": [
    "### Remove Repeating Characters"
   ]
  },
  {
   "cell_type": "code",
   "execution_count": 7,
   "id": "ff3374bb",
   "metadata": {
    "execution": {
     "iopub.execute_input": "2024-01-13T01:36:25.810765Z",
     "iopub.status.busy": "2024-01-13T01:36:25.810290Z",
     "iopub.status.idle": "2024-01-13T01:36:26.049179Z",
     "shell.execute_reply": "2024-01-13T01:36:26.047626Z"
    },
    "papermill": {
     "duration": 0.25625,
     "end_time": "2024-01-13T01:36:26.053131",
     "exception": false,
     "start_time": "2024-01-13T01:36:25.796881",
     "status": "completed"
    },
    "tags": []
   },
   "outputs": [
    {
     "name": "stdout",
     "output_type": "stream",
     "text": [
      "0                                                   yes\n",
      "1     very fun have a playlist of music to enhance e...\n",
      "2                                             grat game\n",
      "3     no mater what you chose enabledisabled onof vo...\n",
      "4     so much fun sounds boring but i have found it ...\n",
      "5     very god game but dont play it to much or it g...\n",
      "6     i love the game its fun to play and i love rig...\n",
      "7                                                    eh\n",
      "8     great sim game there are a few litle dislike b...\n",
      "9     relax gameplay prety fun and gives you a sense...\n",
      "10    its a great game but much beter with a stering...\n",
      "11    love the detail and realism in this game a mus...\n",
      "12    ats is one of those games where you can escape...\n",
      "13    awesome game my only question is where are the...\n",
      "14         love this game want to drive a truck one day\n",
      "15                amazing game buy the heavy cargo pack\n",
      "16                             it is a god game to play\n",
      "17            alright neds more macks and overal awsome\n",
      "19    prety nice game the map has increase in size a...\n",
      "20                                          awsome game\n",
      "21    god if you like trucks or learning about the g...\n",
      "22                        it is prety god i should know\n",
      "23                                         the ai is as\n",
      "24                                         not worth it\n",
      "25                                         very god yes\n",
      "26        one of the great pc games we wil never forget\n",
      "27                         just god nothing can beat it\n",
      "28                                just love the gamplay\n",
      "29                         god but no mercedes flatnose\n",
      "30    from point a to point b to get stacks of gren ...\n",
      "31                                              its col\n",
      "32    i play truckermp more then solo player \\n\\nhtp...\n",
      "33    it is a great way to pas a bit of time\\nincred...\n",
      "34                               excelent game relaxing\n",
      "35                                        very god game\n",
      "36    i like ats it stil neds more trucks and locati...\n",
      "37                                                 dope\n",
      "38      nice game enjoying every moment i spent playing\n",
      "39    super great experience driving a truck in amer...\n",
      "40    very fun game if you want to relax for a few h...\n",
      "41    wel first of it is a way to relax i am a trans...\n",
      "42              god game eli have huge p no lie no scam\n",
      "43                                           great game\n",
      "44                                  its an amazing game\n",
      "45                                            i in lveo\n",
      "46    this is a very god game i enjoy playing it i r...\n",
      "47     very fun truck game and fun for the whole family\n",
      "48                                                  god\n",
      "49    who the fuck wants to drive around arizona meg...\n",
      "50                                                    g\n",
      "51    wel its ben a long time since i have writen a ...\n",
      "52    american truck simulator was released years ag...\n",
      "53    i have ben playing scs games since ptm i have ...\n",
      "54                           this game is realy awesome\n",
      "55    i have ben a truck driver for the past years t...\n",
      "56                                                  fun\n",
      "57    once i figured out the seting setup that worke...\n",
      "58    as someone who works with a lot of truck drive...\n",
      "59    as the son and brother of a trucker this is pr...\n",
      "60                                        god simulater\n",
      "Name: review, dtype: object\n"
     ]
    }
   ],
   "source": [
    "# Removing repeating characters\n",
    "    \n",
    "def remove_repeating_chars(s):\n",
    "    return re.sub(r'(.)\\1+', r'\\1', s)\n",
    "\n",
    "# Assuming df is your DataFrame and 'column' is the name of the column containing the strings\n",
    "data_8K.loc[:, 'review'] = data_8K.loc[:, 'review'].apply(remove_repeating_chars)\n",
    "\n",
    "print(data_8K.loc[:, 'review'].head(60))"
   ]
  },
  {
   "cell_type": "markdown",
   "id": "5a59324f",
   "metadata": {
    "papermill": {
     "duration": 0.011357,
     "end_time": "2024-01-13T01:36:26.076408",
     "exception": false,
     "start_time": "2024-01-13T01:36:26.065051",
     "status": "completed"
    },
    "tags": []
   },
   "source": [
    "### Removing Stopwords"
   ]
  },
  {
   "cell_type": "code",
   "execution_count": 8,
   "id": "09e2999e",
   "metadata": {
    "execution": {
     "iopub.execute_input": "2024-01-13T01:36:26.102151Z",
     "iopub.status.busy": "2024-01-13T01:36:26.101592Z",
     "iopub.status.idle": "2024-01-13T01:36:27.790727Z",
     "shell.execute_reply": "2024-01-13T01:36:27.788800Z"
    },
    "papermill": {
     "duration": 1.705358,
     "end_time": "2024-01-13T01:36:27.793837",
     "exception": false,
     "start_time": "2024-01-13T01:36:26.088479",
     "status": "completed"
    },
    "tags": []
   },
   "outputs": [
    {
     "name": "stdout",
     "output_type": "stream",
     "text": [
      "0                                                   yes\n",
      "1                 fun playlist music enhance experience\n",
      "2                                             grat game\n",
      "3     mater chose enabledisabled onof volume wil lis...\n",
      "4     fun sounds boring found relaxing play using st...\n",
      "5      god game dont play boring play smal amounts time\n",
      "6            love game fun play love rigs tel play game\n",
      "7                                                    eh\n",
      "8     great sim game litle dislike al love game grap...\n",
      "9     relax gameplay prety fun gives sense purpose m...\n",
      "10          great game beter stering whels skrs shifter\n",
      "11    love detail realism game buy truck simulation ...\n",
      "12    ats games can escape world imersed can prety s...\n",
      "13             awesome game only question freightliners\n",
      "14                       love game want drive truck day\n",
      "15                    amazing game buy heavy cargo pack\n",
      "16                                        god game play\n",
      "17                     alright neds macks overal awsome\n",
      "19    prety nice game map increase size alot smoth g...\n",
      "20                                          awsome game\n",
      "21    god like trucks learning geography states pret...\n",
      "22                                       prety god know\n",
      "23                                                   ai\n",
      "24                                                worth\n",
      "25                                              god yes\n",
      "26                            great pc games wil forget\n",
      "27                                    just god can beat\n",
      "28                                    just love gamplay\n",
      "29                                god mercedes flatnose\n",
      "30    point point stacks gren pnw acurate loking hop...\n",
      "31                                                  col\n",
      "32    play truckermp solo player htpstruckersmpcomvt...\n",
      "33    great way pas bit time incredible improvements...\n",
      "34                               excelent game relaxing\n",
      "35                                             god game\n",
      "36    like ats stil neds trucks locations scs stil w...\n",
      "37                                                 dope\n",
      "38              nice game enjoying moment spent playing\n",
      "39    super great experience driving truck american ...\n",
      "40                       fun game want relax hours zone\n",
      "41    wel first way relax am translator ancient lang...\n",
      "42                           god game eli huge lie scam\n",
      "43                                           great game\n",
      "44                                         amazing game\n",
      "45                                                 lveo\n",
      "46    god game enjoy playing recently upgraded gamin...\n",
      "47                      fun truck game fun whole family\n",
      "48                                                  god\n",
      "49    who fuck wants drive arizona meghan mcain new ...\n",
      "50                                                     \n",
      "51    wel ben long time writen review decided game l...\n",
      "52    american truck simulator released years ago of...\n",
      "53    ben playing scs games ptm watch progresion gam...\n",
      "54                                   game realy awesome\n",
      "55    ben truck driver past years best truck sim ive...\n",
      "56                                                  fun\n",
      "57              once figured seting setup worked melove\n",
      "58    who works truck drivers docks tends drive trai...\n",
      "59                    son brother trucker prety acurate\n",
      "60                                        god simulater\n",
      "Name: review, dtype: object\n"
     ]
    }
   ],
   "source": [
    "# Stopwords file\n",
    "file_path = '/kaggle/input/stopwords/stopwords.txt'\n",
    "\n",
    "# Open the file and read the lines\n",
    "with open(file_path, 'r') as f:\n",
    "    stop_words = f.readlines()\n",
    "\n",
    "# Remove any newline characters\n",
    "stop_words = [word.strip() for word in stop_words]\n",
    "\n",
    "\n",
    "def remove_stopwords(text):\n",
    "    words = text.split()\n",
    "    filtered_words = [word for word in words if word not in stop_words]\n",
    "    return \" \".join(filtered_words)\n",
    "\n",
    "\n",
    "# Apply the function to the data set\n",
    "data_8K.loc[:, 'review'] = data_8K.loc[:, 'review'].apply(remove_stopwords)\n",
    "\n",
    "\n",
    "print(data_8K.loc[:, 'review'].head(60))"
   ]
  },
  {
   "cell_type": "markdown",
   "id": "bf7d309b",
   "metadata": {
    "papermill": {
     "duration": 0.011431,
     "end_time": "2024-01-13T01:36:27.816737",
     "exception": false,
     "start_time": "2024-01-13T01:36:27.805306",
     "status": "completed"
    },
    "tags": []
   },
   "source": [
    "## Tokenization"
   ]
  },
  {
   "cell_type": "code",
   "execution_count": 9,
   "id": "888f4990",
   "metadata": {
    "execution": {
     "iopub.execute_input": "2024-01-13T01:36:27.841480Z",
     "iopub.status.busy": "2024-01-13T01:36:27.840998Z",
     "iopub.status.idle": "2024-01-13T01:36:29.614087Z",
     "shell.execute_reply": "2024-01-13T01:36:29.612658Z"
    },
    "papermill": {
     "duration": 1.789308,
     "end_time": "2024-01-13T01:36:29.617271",
     "exception": false,
     "start_time": "2024-01-13T01:36:27.827963",
     "status": "completed"
    },
    "tags": []
   },
   "outputs": [
    {
     "name": "stdout",
     "output_type": "stream",
     "text": [
      "0                                                 [yes]\n",
      "1           [fun, playlist, music, enhance, experience]\n",
      "2                                          [grat, game]\n",
      "3     [mater, chose, enabledisabled, onof, volume, w...\n",
      "4     [fun, sounds, boring, found, relaxing, play, u...\n",
      "5     [god, game, dont, play, boring, play, smal, am...\n",
      "6     [love, game, fun, play, love, rigs, tel, play,...\n",
      "7                                                  [eh]\n",
      "8     [great, sim, game, litle, dislike, al, love, g...\n",
      "9     [relax, gameplay, prety, fun, gives, sense, pu...\n",
      "10    [great, game, beter, stering, whels, skrs, shi...\n",
      "11    [love, detail, realism, game, buy, truck, simu...\n",
      "12    [ats, games, can, escape, world, imersed, can,...\n",
      "13       [awesome, game, only, question, freightliners]\n",
      "14                [love, game, want, drive, truck, day]\n",
      "15             [amazing, game, buy, heavy, cargo, pack]\n",
      "16                                    [god, game, play]\n",
      "17               [alright, neds, macks, overal, awsome]\n",
      "19    [prety, nice, game, map, increase, size, alot,...\n",
      "20                                       [awsome, game]\n",
      "21    [god, like, trucks, learning, geography, state...\n",
      "22                                   [prety, god, know]\n",
      "23                                                 [ai]\n",
      "24                                              [worth]\n",
      "25                                           [god, yes]\n",
      "26                      [great, pc, games, wil, forget]\n",
      "27                               [just, god, can, beat]\n",
      "28                                [just, love, gamplay]\n",
      "29                            [god, mercedes, flatnose]\n",
      "30    [point, point, stacks, gren, pnw, acurate, lok...\n",
      "31                                                [col]\n",
      "32    [play, truckermp, solo, player, htpstruckersmp...\n",
      "33    [great, way, pas, bit, time, incredible, impro...\n",
      "34                           [excelent, game, relaxing]\n",
      "35                                          [god, game]\n",
      "36    [like, ats, stil, neds, trucks, locations, scs...\n",
      "37                                               [dope]\n",
      "38       [nice, game, enjoying, moment, spent, playing]\n",
      "39    [super, great, experience, driving, truck, ame...\n",
      "40                [fun, game, want, relax, hours, zone]\n",
      "41    [wel, first, way, relax, am, translator, ancie...\n",
      "42                    [god, game, eli, huge, lie, scam]\n",
      "43                                        [great, game]\n",
      "44                                      [amazing, game]\n",
      "45                                               [lveo]\n",
      "46    [god, game, enjoy, playing, recently, upgraded...\n",
      "47               [fun, truck, game, fun, whole, family]\n",
      "48                                                [god]\n",
      "49    [who, fuck, wants, drive, arizona, meghan, mca...\n",
      "50                                                   []\n",
      "51    [wel, ben, long, time, writen, review, decided...\n",
      "52    [american, truck, simulator, released, years, ...\n",
      "53    [ben, playing, scs, games, ptm, watch, progres...\n",
      "54                               [game, realy, awesome]\n",
      "55    [ben, truck, driver, past, years, best, truck,...\n",
      "56                                                [fun]\n",
      "57       [once, figured, seting, setup, worked, melove]\n",
      "58    [who, works, truck, drivers, docks, tends, dri...\n",
      "59              [son, brother, trucker, prety, acurate]\n",
      "60                                     [god, simulater]\n",
      "Name: tokens, dtype: object\n"
     ]
    }
   ],
   "source": [
    "def tokenizeText (text) :\n",
    "    word_tokens = nltk.word_tokenize(text)\n",
    "    return word_tokens\n",
    "\n",
    "# Tokenize the dataset\n",
    "data_8K.loc[:, 'tokens'] = data_8K['review'].apply(tokenizeText)\n",
    "\n",
    "print(data_8K.loc[:, 'tokens'].head(60))"
   ]
  },
  {
   "cell_type": "markdown",
   "id": "a3d381e0",
   "metadata": {
    "papermill": {
     "duration": 0.011056,
     "end_time": "2024-01-13T01:36:29.640001",
     "exception": false,
     "start_time": "2024-01-13T01:36:29.628945",
     "status": "completed"
    },
    "tags": []
   },
   "source": [
    "### Stemming"
   ]
  },
  {
   "cell_type": "code",
   "execution_count": 10,
   "id": "c479018a",
   "metadata": {
    "execution": {
     "iopub.execute_input": "2024-01-13T01:36:29.665959Z",
     "iopub.status.busy": "2024-01-13T01:36:29.665458Z",
     "iopub.status.idle": "2024-01-13T01:36:33.600604Z",
     "shell.execute_reply": "2024-01-13T01:36:33.599512Z"
    },
    "papermill": {
     "duration": 3.952207,
     "end_time": "2024-01-13T01:36:33.604130",
     "exception": false,
     "start_time": "2024-01-13T01:36:29.651923",
     "status": "completed"
    },
    "tags": []
   },
   "outputs": [
    {
     "name": "stdout",
     "output_type": "stream",
     "text": [
      "0                                                  [ye]\n",
      "1                [fun, playlist, music, enhanc, experi]\n",
      "2                                          [grat, game]\n",
      "3     [mater, chose, enabledis, onof, volum, wil, li...\n",
      "4     [fun, sound, bore, found, relax, play, use, st...\n",
      "5     [god, game, dont, play, bore, play, smal, amou...\n",
      "6     [love, game, fun, play, love, rig, tel, play, ...\n",
      "7                                                  [eh]\n",
      "8     [great, sim, game, litl, dislik, al, love, gam...\n",
      "9     [relax, gameplay, preti, fun, give, sens, purp...\n",
      "10      [great, game, beter, stere, whel, skr, shifter]\n",
      "11    [love, detail, realism, game, buy, truck, simu...\n",
      "12    [at, game, can, escap, world, imers, can, pret...\n",
      "13           [awesom, game, onli, question, freightlin]\n",
      "14                [love, game, want, drive, truck, day]\n",
      "15                [amaz, game, buy, heavi, cargo, pack]\n",
      "16                                    [god, game, play]\n",
      "17                    [alright, ned, mack, over, awsom]\n",
      "19    [preti, nice, game, map, increas, size, alot, ...\n",
      "20                                        [awsom, game]\n",
      "21    [god, like, truck, learn, geographi, state, pr...\n",
      "22                                   [preti, god, know]\n",
      "23                                                 [ai]\n",
      "24                                              [worth]\n",
      "25                                            [god, ye]\n",
      "26                       [great, pc, game, wil, forget]\n",
      "27                               [just, god, can, beat]\n",
      "28                                [just, love, gamplay]\n",
      "29                               [god, merced, flatnos]\n",
      "30    [point, point, stack, gren, pnw, acur, loke, h...\n",
      "31                                                [col]\n",
      "32    [play, truckermp, solo, player, htpstruckersmp...\n",
      "33    [great, way, pa, bit, time, incred, improv, ex...\n",
      "34                                 [excel, game, relax]\n",
      "35                                          [god, game]\n",
      "36    [like, at, stil, ned, truck, locat, sc, stil, ...\n",
      "37                                               [dope]\n",
      "38             [nice, game, enjoy, moment, spent, play]\n",
      "39    [super, great, experi, drive, truck, american,...\n",
      "40                 [fun, game, want, relax, hour, zone]\n",
      "41    [wel, first, way, relax, am, translat, ancient...\n",
      "42                    [god, game, eli, huge, lie, scam]\n",
      "43                                        [great, game]\n",
      "44                                         [amaz, game]\n",
      "45                                               [lveo]\n",
      "46    [god, game, enjoy, play, recent, upgrad, game,...\n",
      "47               [fun, truck, game, fun, whole, famili]\n",
      "48                                                [god]\n",
      "49    [who, fuck, want, drive, arizona, meghan, mcai...\n",
      "50                                                   []\n",
      "51    [wel, ben, long, time, writen, review, decid, ...\n",
      "52    [american, truck, simul, releas, year, ago, of...\n",
      "53    [ben, play, sc, game, ptm, watch, progres, gam...\n",
      "54                                [game, reali, awesom]\n",
      "55    [ben, truck, driver, past, year, best, truck, ...\n",
      "56                                                [fun]\n",
      "57               [onc, figur, sete, setup, work, melov]\n",
      "58    [who, work, truck, driver, dock, tend, drive, ...\n",
      "59                 [son, brother, trucker, preti, acur]\n",
      "60                                       [god, simulat]\n",
      "Name: stemmed_tokens, dtype: object\n"
     ]
    }
   ],
   "source": [
    "# Initialize the stemmer\n",
    "porter_stemmer = PorterStemmer()\n",
    "\n",
    "\n",
    "# Stem each word in the tokenized sentence\n",
    "data_8K['stemmed_tokens'] = data_8K['tokens'].apply(lambda x : [porter_stemmer.stem(y) for y in x])\n",
    "\n",
    "print(data_8K['stemmed_tokens'].head(60))\n"
   ]
  },
  {
   "cell_type": "markdown",
   "id": "039297c8",
   "metadata": {
    "papermill": {
     "duration": 0.011275,
     "end_time": "2024-01-13T01:36:33.627241",
     "exception": false,
     "start_time": "2024-01-13T01:36:33.615966",
     "status": "completed"
    },
    "tags": []
   },
   "source": [
    "# TEXT CLASSIFICATION"
   ]
  },
  {
   "cell_type": "code",
   "execution_count": 11,
   "id": "361791ce",
   "metadata": {
    "execution": {
     "iopub.execute_input": "2024-01-13T01:36:33.652667Z",
     "iopub.status.busy": "2024-01-13T01:36:33.652204Z",
     "iopub.status.idle": "2024-01-13T01:36:33.660894Z",
     "shell.execute_reply": "2024-01-13T01:36:33.659549Z"
    },
    "papermill": {
     "duration": 0.024382,
     "end_time": "2024-01-13T01:36:33.663444",
     "exception": false,
     "start_time": "2024-01-13T01:36:33.639062",
     "status": "completed"
    },
    "tags": []
   },
   "outputs": [],
   "source": [
    "# Splitting the dataset into train and test\n",
    "\n",
    "reviews = data_8K['stemmed_tokens'].values\n",
    "y = data_8K['voted_up'].values\n",
    "\n",
    "reviews_train, reviews_test, y_train, y_test = train_test_split(reviews,y,test_size=0.30,random_state=101)"
   ]
  },
  {
   "cell_type": "code",
   "execution_count": 12,
   "id": "7d8d1786",
   "metadata": {
    "execution": {
     "iopub.execute_input": "2024-01-13T01:36:33.689581Z",
     "iopub.status.busy": "2024-01-13T01:36:33.689012Z",
     "iopub.status.idle": "2024-01-13T01:36:33.707196Z",
     "shell.execute_reply": "2024-01-13T01:36:33.706072Z"
    },
    "papermill": {
     "duration": 0.035177,
     "end_time": "2024-01-13T01:36:33.710334",
     "exception": false,
     "start_time": "2024-01-13T01:36:33.675157",
     "status": "completed"
    },
    "tags": []
   },
   "outputs": [],
   "source": [
    "# Join the tokens into a single string for each document\n",
    "reviews_train = [' '.join(doc) for doc in reviews_train]\n",
    "reviews_test = [' '.join(doc) for doc in reviews_test]\n"
   ]
  },
  {
   "cell_type": "code",
   "execution_count": 13,
   "id": "05283967",
   "metadata": {
    "execution": {
     "iopub.execute_input": "2024-01-13T01:36:33.736403Z",
     "iopub.status.busy": "2024-01-13T01:36:33.735557Z",
     "iopub.status.idle": "2024-01-13T01:36:34.029545Z",
     "shell.execute_reply": "2024-01-13T01:36:34.028227Z"
    },
    "papermill": {
     "duration": 0.310601,
     "end_time": "2024-01-13T01:36:34.032769",
     "exception": false,
     "start_time": "2024-01-13T01:36:33.722168",
     "status": "completed"
    },
    "tags": []
   },
   "outputs": [],
   "source": [
    "# Count Vectorizer\n",
    "vectorizer = CountVectorizer()\n",
    "vectorizer.fit(reviews_train)\n",
    "\n",
    "X_train = vectorizer.transform(reviews_train)\n",
    "X_test = vectorizer.transform(reviews_test)"
   ]
  },
  {
   "cell_type": "code",
   "execution_count": 14,
   "id": "f0fd6fae",
   "metadata": {
    "execution": {
     "iopub.execute_input": "2024-01-13T01:36:34.059126Z",
     "iopub.status.busy": "2024-01-13T01:36:34.058447Z",
     "iopub.status.idle": "2024-01-13T01:36:34.074128Z",
     "shell.execute_reply": "2024-01-13T01:36:34.073164Z"
    },
    "papermill": {
     "duration": 0.031552,
     "end_time": "2024-01-13T01:36:34.076426",
     "exception": false,
     "start_time": "2024-01-13T01:36:34.044874",
     "status": "completed"
    },
    "tags": []
   },
   "outputs": [
    {
     "data": {
      "text/html": [
       "<div>\n",
       "<style scoped>\n",
       "    .dataframe tbody tr th:only-of-type {\n",
       "        vertical-align: middle;\n",
       "    }\n",
       "\n",
       "    .dataframe tbody tr th {\n",
       "        vertical-align: top;\n",
       "    }\n",
       "\n",
       "    .dataframe thead th {\n",
       "        text-align: right;\n",
       "    }\n",
       "</style>\n",
       "<table border=\"1\" class=\"dataframe\">\n",
       "  <thead>\n",
       "    <tr style=\"text-align: right;\">\n",
       "      <th></th>\n",
       "      <th>Data Set</th>\n",
       "      <th>Number of Rows</th>\n",
       "    </tr>\n",
       "  </thead>\n",
       "  <tbody>\n",
       "    <tr>\n",
       "      <th>0</th>\n",
       "      <td>Training Data</td>\n",
       "      <td>5577</td>\n",
       "    </tr>\n",
       "    <tr>\n",
       "      <th>1</th>\n",
       "      <td>Testing Data</td>\n",
       "      <td>2391</td>\n",
       "    </tr>\n",
       "  </tbody>\n",
       "</table>\n",
       "</div>"
      ],
      "text/plain": [
       "        Data Set  Number of Rows\n",
       "0  Training Data            5577\n",
       "1   Testing Data            2391"
      ]
     },
     "execution_count": 14,
     "metadata": {},
     "output_type": "execute_result"
    }
   ],
   "source": [
    "# Create a DataFrame\n",
    "num_rows = pd.DataFrame({\n",
    "    'Data Set': ['Training Data', 'Testing Data'],\n",
    "    'Number of Rows': [X_train.shape[0], X_test.shape[0]]\n",
    "})\n",
    "\n",
    "num_rows"
   ]
  },
  {
   "cell_type": "code",
   "execution_count": 15,
   "id": "a1309561",
   "metadata": {
    "execution": {
     "iopub.execute_input": "2024-01-13T01:36:34.103010Z",
     "iopub.status.busy": "2024-01-13T01:36:34.102122Z",
     "iopub.status.idle": "2024-01-13T01:36:34.122518Z",
     "shell.execute_reply": "2024-01-13T01:36:34.120970Z"
    },
    "papermill": {
     "duration": 0.03708,
     "end_time": "2024-01-13T01:36:34.125371",
     "exception": false,
     "start_time": "2024-01-13T01:36:34.088291",
     "status": "completed"
    },
    "tags": []
   },
   "outputs": [
    {
     "name": "stdout",
     "output_type": "stream",
     "text": [
      "           Word  Count\n",
      "2126       game   4842\n",
      "5451      truck   1938\n",
      "2243        god   1097\n",
      "1528      drive   1095\n",
      "3921       play   1081\n",
      "...         ...    ...\n",
      "3314   miniatur      1\n",
      "843       chate      1\n",
      "3316    minimum      1\n",
      "3317  miniworld      1\n",
      "0         aband      1\n",
      "\n",
      "[6208 rows x 2 columns]\n"
     ]
    }
   ],
   "source": [
    "# Count of words\n",
    "\n",
    "word_list = vectorizer.get_feature_names_out()\n",
    "count_list = np.asarray(X_train.sum(axis=0))[0]\n",
    "\n",
    "# Create a DataFrame from the feature(reviews) and counts\n",
    "counts = pd.DataFrame({'Word': word_list, 'Count': count_list})\n",
    "\n",
    "# Sort the DataFrame by 'Count' in descending order\n",
    "counts = counts.sort_values('Count', ascending=False)\n",
    "\n",
    "print(counts)"
   ]
  },
  {
   "cell_type": "code",
   "execution_count": 16,
   "id": "1a77fb64",
   "metadata": {
    "execution": {
     "iopub.execute_input": "2024-01-13T01:36:34.152216Z",
     "iopub.status.busy": "2024-01-13T01:36:34.151660Z",
     "iopub.status.idle": "2024-01-13T01:36:34.289459Z",
     "shell.execute_reply": "2024-01-13T01:36:34.288054Z"
    },
    "papermill": {
     "duration": 0.154655,
     "end_time": "2024-01-13T01:36:34.292242",
     "exception": false,
     "start_time": "2024-01-13T01:36:34.137587",
     "status": "completed"
    },
    "tags": []
   },
   "outputs": [
    {
     "data": {
      "text/html": [
       "<style>#sk-container-id-1 {color: black;background-color: white;}#sk-container-id-1 pre{padding: 0;}#sk-container-id-1 div.sk-toggleable {background-color: white;}#sk-container-id-1 label.sk-toggleable__label {cursor: pointer;display: block;width: 100%;margin-bottom: 0;padding: 0.3em;box-sizing: border-box;text-align: center;}#sk-container-id-1 label.sk-toggleable__label-arrow:before {content: \"▸\";float: left;margin-right: 0.25em;color: #696969;}#sk-container-id-1 label.sk-toggleable__label-arrow:hover:before {color: black;}#sk-container-id-1 div.sk-estimator:hover label.sk-toggleable__label-arrow:before {color: black;}#sk-container-id-1 div.sk-toggleable__content {max-height: 0;max-width: 0;overflow: hidden;text-align: left;background-color: #f0f8ff;}#sk-container-id-1 div.sk-toggleable__content pre {margin: 0.2em;color: black;border-radius: 0.25em;background-color: #f0f8ff;}#sk-container-id-1 input.sk-toggleable__control:checked~div.sk-toggleable__content {max-height: 200px;max-width: 100%;overflow: auto;}#sk-container-id-1 input.sk-toggleable__control:checked~label.sk-toggleable__label-arrow:before {content: \"▾\";}#sk-container-id-1 div.sk-estimator input.sk-toggleable__control:checked~label.sk-toggleable__label {background-color: #d4ebff;}#sk-container-id-1 div.sk-label input.sk-toggleable__control:checked~label.sk-toggleable__label {background-color: #d4ebff;}#sk-container-id-1 input.sk-hidden--visually {border: 0;clip: rect(1px 1px 1px 1px);clip: rect(1px, 1px, 1px, 1px);height: 1px;margin: -1px;overflow: hidden;padding: 0;position: absolute;width: 1px;}#sk-container-id-1 div.sk-estimator {font-family: monospace;background-color: #f0f8ff;border: 1px dotted black;border-radius: 0.25em;box-sizing: border-box;margin-bottom: 0.5em;}#sk-container-id-1 div.sk-estimator:hover {background-color: #d4ebff;}#sk-container-id-1 div.sk-parallel-item::after {content: \"\";width: 100%;border-bottom: 1px solid gray;flex-grow: 1;}#sk-container-id-1 div.sk-label:hover label.sk-toggleable__label {background-color: #d4ebff;}#sk-container-id-1 div.sk-serial::before {content: \"\";position: absolute;border-left: 1px solid gray;box-sizing: border-box;top: 0;bottom: 0;left: 50%;z-index: 0;}#sk-container-id-1 div.sk-serial {display: flex;flex-direction: column;align-items: center;background-color: white;padding-right: 0.2em;padding-left: 0.2em;position: relative;}#sk-container-id-1 div.sk-item {position: relative;z-index: 1;}#sk-container-id-1 div.sk-parallel {display: flex;align-items: stretch;justify-content: center;background-color: white;position: relative;}#sk-container-id-1 div.sk-item::before, #sk-container-id-1 div.sk-parallel-item::before {content: \"\";position: absolute;border-left: 1px solid gray;box-sizing: border-box;top: 0;bottom: 0;left: 50%;z-index: -1;}#sk-container-id-1 div.sk-parallel-item {display: flex;flex-direction: column;z-index: 1;position: relative;background-color: white;}#sk-container-id-1 div.sk-parallel-item:first-child::after {align-self: flex-end;width: 50%;}#sk-container-id-1 div.sk-parallel-item:last-child::after {align-self: flex-start;width: 50%;}#sk-container-id-1 div.sk-parallel-item:only-child::after {width: 0;}#sk-container-id-1 div.sk-dashed-wrapped {border: 1px dashed gray;margin: 0 0.4em 0.5em 0.4em;box-sizing: border-box;padding-bottom: 0.4em;background-color: white;}#sk-container-id-1 div.sk-label label {font-family: monospace;font-weight: bold;display: inline-block;line-height: 1.2em;}#sk-container-id-1 div.sk-label-container {text-align: center;}#sk-container-id-1 div.sk-container {/* jupyter's `normalize.less` sets `[hidden] { display: none; }` but bootstrap.min.css set `[hidden] { display: none !important; }` so we also need the `!important` here to be able to override the default hidden behavior on the sphinx rendered scikit-learn.org. See: https://github.com/scikit-learn/scikit-learn/issues/21755 */display: inline-block !important;position: relative;}#sk-container-id-1 div.sk-text-repr-fallback {display: none;}</style><div id=\"sk-container-id-1\" class=\"sk-top-container\"><div class=\"sk-text-repr-fallback\"><pre>LogisticRegression()</pre><b>In a Jupyter environment, please rerun this cell to show the HTML representation or trust the notebook. <br />On GitHub, the HTML representation is unable to render, please try loading this page with nbviewer.org.</b></div><div class=\"sk-container\" hidden><div class=\"sk-item\"><div class=\"sk-estimator sk-toggleable\"><input class=\"sk-toggleable__control sk-hidden--visually\" id=\"sk-estimator-id-1\" type=\"checkbox\" checked><label for=\"sk-estimator-id-1\" class=\"sk-toggleable__label sk-toggleable__label-arrow\">LogisticRegression</label><div class=\"sk-toggleable__content\"><pre>LogisticRegression()</pre></div></div></div></div></div>"
      ],
      "text/plain": [
       "LogisticRegression()"
      ]
     },
     "execution_count": 16,
     "metadata": {},
     "output_type": "execute_result"
    }
   ],
   "source": [
    "# Logistic Regression\n",
    "classifier = LogisticRegression()\n",
    "classifier.fit(X_train,y_train)"
   ]
  },
  {
   "cell_type": "code",
   "execution_count": 17,
   "id": "2cf53c80",
   "metadata": {
    "execution": {
     "iopub.execute_input": "2024-01-13T01:36:34.320389Z",
     "iopub.status.busy": "2024-01-13T01:36:34.319923Z",
     "iopub.status.idle": "2024-01-13T01:36:34.378592Z",
     "shell.execute_reply": "2024-01-13T01:36:34.377255Z"
    },
    "papermill": {
     "duration": 0.076072,
     "end_time": "2024-01-13T01:36:34.381300",
     "exception": false,
     "start_time": "2024-01-13T01:36:34.305228",
     "status": "completed"
    },
    "tags": []
   },
   "outputs": [
    {
     "data": {
      "text/html": [
       "<div>\n",
       "<style scoped>\n",
       "    .dataframe tbody tr th:only-of-type {\n",
       "        vertical-align: middle;\n",
       "    }\n",
       "\n",
       "    .dataframe tbody tr th {\n",
       "        vertical-align: top;\n",
       "    }\n",
       "\n",
       "    .dataframe thead th {\n",
       "        text-align: right;\n",
       "    }\n",
       "</style>\n",
       "<table border=\"1\" class=\"dataframe\">\n",
       "  <thead>\n",
       "    <tr style=\"text-align: right;\">\n",
       "      <th>Predicted</th>\n",
       "      <th>False</th>\n",
       "      <th>True</th>\n",
       "      <th>All</th>\n",
       "    </tr>\n",
       "    <tr>\n",
       "      <th>Actual</th>\n",
       "      <th></th>\n",
       "      <th></th>\n",
       "      <th></th>\n",
       "    </tr>\n",
       "  </thead>\n",
       "  <tbody>\n",
       "    <tr>\n",
       "      <th>False</th>\n",
       "      <td>2</td>\n",
       "      <td>51</td>\n",
       "      <td>53</td>\n",
       "    </tr>\n",
       "    <tr>\n",
       "      <th>True</th>\n",
       "      <td>9</td>\n",
       "      <td>2329</td>\n",
       "      <td>2338</td>\n",
       "    </tr>\n",
       "    <tr>\n",
       "      <th>All</th>\n",
       "      <td>11</td>\n",
       "      <td>2380</td>\n",
       "      <td>2391</td>\n",
       "    </tr>\n",
       "  </tbody>\n",
       "</table>\n",
       "</div>"
      ],
      "text/plain": [
       "Predicted  False  True   All\n",
       "Actual                      \n",
       "False          2    51    53\n",
       "True           9  2329  2338\n",
       "All           11  2380  2391"
      ]
     },
     "execution_count": 17,
     "metadata": {},
     "output_type": "execute_result"
    }
   ],
   "source": [
    "# Prediction & Performance\n",
    "y_pred = classifier.predict(X_test)\n",
    "confusion_matrix(y_test, y_pred)\n",
    "pd.crosstab(y_test, y_pred, rownames = ['Actual'],colnames =['Predicted'], margins = True)"
   ]
  },
  {
   "cell_type": "code",
   "execution_count": 18,
   "id": "373753ce",
   "metadata": {
    "execution": {
     "iopub.execute_input": "2024-01-13T01:36:34.409001Z",
     "iopub.status.busy": "2024-01-13T01:36:34.408531Z",
     "iopub.status.idle": "2024-01-13T01:36:34.416892Z",
     "shell.execute_reply": "2024-01-13T01:36:34.415533Z"
    },
    "papermill": {
     "duration": 0.025211,
     "end_time": "2024-01-13T01:36:34.419252",
     "exception": false,
     "start_time": "2024-01-13T01:36:34.394041",
     "status": "completed"
    },
    "tags": []
   },
   "outputs": [
    {
     "name": "stdout",
     "output_type": "stream",
     "text": [
      "Accuracy: 0.9749058971141782\n"
     ]
    }
   ],
   "source": [
    "# Accuracy\n",
    "\n",
    "score = classifier.score(X_test, y_test)\n",
    "print(\"Accuracy:\", score)"
   ]
  },
  {
   "cell_type": "code",
   "execution_count": 19,
   "id": "a7056e23",
   "metadata": {
    "execution": {
     "iopub.execute_input": "2024-01-13T01:36:34.447664Z",
     "iopub.status.busy": "2024-01-13T01:36:34.446408Z",
     "iopub.status.idle": "2024-01-13T01:36:34.465508Z",
     "shell.execute_reply": "2024-01-13T01:36:34.464162Z"
    },
    "papermill": {
     "duration": 0.036189,
     "end_time": "2024-01-13T01:36:34.468407",
     "exception": false,
     "start_time": "2024-01-13T01:36:34.432218",
     "status": "completed"
    },
    "tags": []
   },
   "outputs": [
    {
     "name": "stdout",
     "output_type": "stream",
     "text": [
      "              precision    recall  f1-score   support\n",
      "\n",
      "       False       0.18      0.04      0.06        53\n",
      "        True       0.98      1.00      0.99      2338\n",
      "\n",
      "    accuracy                           0.97      2391\n",
      "   macro avg       0.58      0.52      0.52      2391\n",
      "weighted avg       0.96      0.97      0.97      2391\n",
      "\n"
     ]
    }
   ],
   "source": [
    "print(classification_report(y_test, y_pred))"
   ]
  },
  {
   "cell_type": "markdown",
   "id": "bc418dd1",
   "metadata": {
    "papermill": {
     "duration": 0.013977,
     "end_time": "2024-01-13T01:36:34.591025",
     "exception": false,
     "start_time": "2024-01-13T01:36:34.577048",
     "status": "completed"
    },
    "tags": []
   },
   "source": [
    "# End of codes..."
   ]
  }
 ],
 "metadata": {
  "kaggle": {
   "accelerator": "none",
   "dataSources": [
    {
     "datasetId": 1003424,
     "sourceId": 1692967,
     "sourceType": "datasetVersion"
    },
    {
     "datasetId": 4288521,
     "sourceId": 7379588,
     "sourceType": "datasetVersion"
    }
   ],
   "dockerImageVersionId": 30635,
   "isGpuEnabled": false,
   "isInternetEnabled": false,
   "language": "python",
   "sourceType": "notebook"
  },
  "kernelspec": {
   "display_name": "Python 3",
   "language": "python",
   "name": "python3"
  },
  "language_info": {
   "codemirror_mode": {
    "name": "ipython",
    "version": 3
   },
   "file_extension": ".py",
   "mimetype": "text/x-python",
   "name": "python",
   "nbconvert_exporter": "python",
   "pygments_lexer": "ipython3",
   "version": "3.10.12"
  },
  "papermill": {
   "default_parameters": {},
   "duration": 20.620272,
   "end_time": "2024-01-13T01:36:35.528589",
   "environment_variables": {},
   "exception": null,
   "input_path": "__notebook__.ipynb",
   "output_path": "__notebook__.ipynb",
   "parameters": {},
   "start_time": "2024-01-13T01:36:14.908317",
   "version": "2.4.0"
  }
 },
 "nbformat": 4,
 "nbformat_minor": 5
}
